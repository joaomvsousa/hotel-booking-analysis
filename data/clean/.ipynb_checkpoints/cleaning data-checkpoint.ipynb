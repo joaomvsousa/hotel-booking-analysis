{
 "cells": [
  {
   "cell_type": "code",
   "execution_count": 1,
   "id": "83efee90-5a2d-4df5-ba0a-66ec378c3591",
   "metadata": {
    "tags": []
   },
   "outputs": [],
   "source": [
    "import pandas as pd"
   ]
  },
  {
   "cell_type": "code",
   "execution_count": 3,
   "id": "d3533850-e2b2-489d-a854-befe71d7cbfe",
   "metadata": {
    "tags": []
   },
   "outputs": [
    {
     "name": "stdout",
     "output_type": "stream",
     "text": [
      "/Users/joaosousa/Desktop/Ironhack/project/project-1/data/clean\n"
     ]
    }
   ],
   "source": [
    "!pwd"
   ]
  },
  {
   "cell_type": "code",
   "execution_count": 26,
   "id": "ce68a5a0-d6a4-497f-8c28-4e57b9520527",
   "metadata": {
    "tags": []
   },
   "outputs": [],
   "source": [
    "relative_path = \"data/raw/hotel_booking.csv/\""
   ]
  },
  {
   "cell_type": "code",
   "execution_count": 24,
   "id": "65215315-f34e-49f9-8bd7-38dead20c20e",
   "metadata": {
    "tags": []
   },
   "outputs": [
    {
     "ename": "FileNotFoundError",
     "evalue": "[Errno 2] No such file or directory: '/data/raw/hotel_booking.csv/'",
     "output_type": "error",
     "traceback": [
      "\u001b[0;31m---------------------------------------------------------------------------\u001b[0m",
      "\u001b[0;31mFileNotFoundError\u001b[0m                         Traceback (most recent call last)",
      "Cell \u001b[0;32mIn[24], line 1\u001b[0m\n\u001b[0;32m----> 1\u001b[0m df \u001b[38;5;241m=\u001b[39m pd\u001b[38;5;241m.\u001b[39mread_csv(relative_path)\n",
      "File \u001b[0;32m/opt/anaconda3/lib/python3.11/site-packages/pandas/io/parsers/readers.py:948\u001b[0m, in \u001b[0;36mread_csv\u001b[0;34m(filepath_or_buffer, sep, delimiter, header, names, index_col, usecols, dtype, engine, converters, true_values, false_values, skipinitialspace, skiprows, skipfooter, nrows, na_values, keep_default_na, na_filter, verbose, skip_blank_lines, parse_dates, infer_datetime_format, keep_date_col, date_parser, date_format, dayfirst, cache_dates, iterator, chunksize, compression, thousands, decimal, lineterminator, quotechar, quoting, doublequote, escapechar, comment, encoding, encoding_errors, dialect, on_bad_lines, delim_whitespace, low_memory, memory_map, float_precision, storage_options, dtype_backend)\u001b[0m\n\u001b[1;32m    935\u001b[0m kwds_defaults \u001b[38;5;241m=\u001b[39m _refine_defaults_read(\n\u001b[1;32m    936\u001b[0m     dialect,\n\u001b[1;32m    937\u001b[0m     delimiter,\n\u001b[0;32m   (...)\u001b[0m\n\u001b[1;32m    944\u001b[0m     dtype_backend\u001b[38;5;241m=\u001b[39mdtype_backend,\n\u001b[1;32m    945\u001b[0m )\n\u001b[1;32m    946\u001b[0m kwds\u001b[38;5;241m.\u001b[39mupdate(kwds_defaults)\n\u001b[0;32m--> 948\u001b[0m \u001b[38;5;28;01mreturn\u001b[39;00m _read(filepath_or_buffer, kwds)\n",
      "File \u001b[0;32m/opt/anaconda3/lib/python3.11/site-packages/pandas/io/parsers/readers.py:611\u001b[0m, in \u001b[0;36m_read\u001b[0;34m(filepath_or_buffer, kwds)\u001b[0m\n\u001b[1;32m    608\u001b[0m _validate_names(kwds\u001b[38;5;241m.\u001b[39mget(\u001b[38;5;124m\"\u001b[39m\u001b[38;5;124mnames\u001b[39m\u001b[38;5;124m\"\u001b[39m, \u001b[38;5;28;01mNone\u001b[39;00m))\n\u001b[1;32m    610\u001b[0m \u001b[38;5;66;03m# Create the parser.\u001b[39;00m\n\u001b[0;32m--> 611\u001b[0m parser \u001b[38;5;241m=\u001b[39m TextFileReader(filepath_or_buffer, \u001b[38;5;241m*\u001b[39m\u001b[38;5;241m*\u001b[39mkwds)\n\u001b[1;32m    613\u001b[0m \u001b[38;5;28;01mif\u001b[39;00m chunksize \u001b[38;5;129;01mor\u001b[39;00m iterator:\n\u001b[1;32m    614\u001b[0m     \u001b[38;5;28;01mreturn\u001b[39;00m parser\n",
      "File \u001b[0;32m/opt/anaconda3/lib/python3.11/site-packages/pandas/io/parsers/readers.py:1448\u001b[0m, in \u001b[0;36mTextFileReader.__init__\u001b[0;34m(self, f, engine, **kwds)\u001b[0m\n\u001b[1;32m   1445\u001b[0m     \u001b[38;5;28mself\u001b[39m\u001b[38;5;241m.\u001b[39moptions[\u001b[38;5;124m\"\u001b[39m\u001b[38;5;124mhas_index_names\u001b[39m\u001b[38;5;124m\"\u001b[39m] \u001b[38;5;241m=\u001b[39m kwds[\u001b[38;5;124m\"\u001b[39m\u001b[38;5;124mhas_index_names\u001b[39m\u001b[38;5;124m\"\u001b[39m]\n\u001b[1;32m   1447\u001b[0m \u001b[38;5;28mself\u001b[39m\u001b[38;5;241m.\u001b[39mhandles: IOHandles \u001b[38;5;241m|\u001b[39m \u001b[38;5;28;01mNone\u001b[39;00m \u001b[38;5;241m=\u001b[39m \u001b[38;5;28;01mNone\u001b[39;00m\n\u001b[0;32m-> 1448\u001b[0m \u001b[38;5;28mself\u001b[39m\u001b[38;5;241m.\u001b[39m_engine \u001b[38;5;241m=\u001b[39m \u001b[38;5;28mself\u001b[39m\u001b[38;5;241m.\u001b[39m_make_engine(f, \u001b[38;5;28mself\u001b[39m\u001b[38;5;241m.\u001b[39mengine)\n",
      "File \u001b[0;32m/opt/anaconda3/lib/python3.11/site-packages/pandas/io/parsers/readers.py:1705\u001b[0m, in \u001b[0;36mTextFileReader._make_engine\u001b[0;34m(self, f, engine)\u001b[0m\n\u001b[1;32m   1703\u001b[0m     \u001b[38;5;28;01mif\u001b[39;00m \u001b[38;5;124m\"\u001b[39m\u001b[38;5;124mb\u001b[39m\u001b[38;5;124m\"\u001b[39m \u001b[38;5;129;01mnot\u001b[39;00m \u001b[38;5;129;01min\u001b[39;00m mode:\n\u001b[1;32m   1704\u001b[0m         mode \u001b[38;5;241m+\u001b[39m\u001b[38;5;241m=\u001b[39m \u001b[38;5;124m\"\u001b[39m\u001b[38;5;124mb\u001b[39m\u001b[38;5;124m\"\u001b[39m\n\u001b[0;32m-> 1705\u001b[0m \u001b[38;5;28mself\u001b[39m\u001b[38;5;241m.\u001b[39mhandles \u001b[38;5;241m=\u001b[39m get_handle(\n\u001b[1;32m   1706\u001b[0m     f,\n\u001b[1;32m   1707\u001b[0m     mode,\n\u001b[1;32m   1708\u001b[0m     encoding\u001b[38;5;241m=\u001b[39m\u001b[38;5;28mself\u001b[39m\u001b[38;5;241m.\u001b[39moptions\u001b[38;5;241m.\u001b[39mget(\u001b[38;5;124m\"\u001b[39m\u001b[38;5;124mencoding\u001b[39m\u001b[38;5;124m\"\u001b[39m, \u001b[38;5;28;01mNone\u001b[39;00m),\n\u001b[1;32m   1709\u001b[0m     compression\u001b[38;5;241m=\u001b[39m\u001b[38;5;28mself\u001b[39m\u001b[38;5;241m.\u001b[39moptions\u001b[38;5;241m.\u001b[39mget(\u001b[38;5;124m\"\u001b[39m\u001b[38;5;124mcompression\u001b[39m\u001b[38;5;124m\"\u001b[39m, \u001b[38;5;28;01mNone\u001b[39;00m),\n\u001b[1;32m   1710\u001b[0m     memory_map\u001b[38;5;241m=\u001b[39m\u001b[38;5;28mself\u001b[39m\u001b[38;5;241m.\u001b[39moptions\u001b[38;5;241m.\u001b[39mget(\u001b[38;5;124m\"\u001b[39m\u001b[38;5;124mmemory_map\u001b[39m\u001b[38;5;124m\"\u001b[39m, \u001b[38;5;28;01mFalse\u001b[39;00m),\n\u001b[1;32m   1711\u001b[0m     is_text\u001b[38;5;241m=\u001b[39mis_text,\n\u001b[1;32m   1712\u001b[0m     errors\u001b[38;5;241m=\u001b[39m\u001b[38;5;28mself\u001b[39m\u001b[38;5;241m.\u001b[39moptions\u001b[38;5;241m.\u001b[39mget(\u001b[38;5;124m\"\u001b[39m\u001b[38;5;124mencoding_errors\u001b[39m\u001b[38;5;124m\"\u001b[39m, \u001b[38;5;124m\"\u001b[39m\u001b[38;5;124mstrict\u001b[39m\u001b[38;5;124m\"\u001b[39m),\n\u001b[1;32m   1713\u001b[0m     storage_options\u001b[38;5;241m=\u001b[39m\u001b[38;5;28mself\u001b[39m\u001b[38;5;241m.\u001b[39moptions\u001b[38;5;241m.\u001b[39mget(\u001b[38;5;124m\"\u001b[39m\u001b[38;5;124mstorage_options\u001b[39m\u001b[38;5;124m\"\u001b[39m, \u001b[38;5;28;01mNone\u001b[39;00m),\n\u001b[1;32m   1714\u001b[0m )\n\u001b[1;32m   1715\u001b[0m \u001b[38;5;28;01massert\u001b[39;00m \u001b[38;5;28mself\u001b[39m\u001b[38;5;241m.\u001b[39mhandles \u001b[38;5;129;01mis\u001b[39;00m \u001b[38;5;129;01mnot\u001b[39;00m \u001b[38;5;28;01mNone\u001b[39;00m\n\u001b[1;32m   1716\u001b[0m f \u001b[38;5;241m=\u001b[39m \u001b[38;5;28mself\u001b[39m\u001b[38;5;241m.\u001b[39mhandles\u001b[38;5;241m.\u001b[39mhandle\n",
      "File \u001b[0;32m/opt/anaconda3/lib/python3.11/site-packages/pandas/io/common.py:863\u001b[0m, in \u001b[0;36mget_handle\u001b[0;34m(path_or_buf, mode, encoding, compression, memory_map, is_text, errors, storage_options)\u001b[0m\n\u001b[1;32m    858\u001b[0m \u001b[38;5;28;01melif\u001b[39;00m \u001b[38;5;28misinstance\u001b[39m(handle, \u001b[38;5;28mstr\u001b[39m):\n\u001b[1;32m    859\u001b[0m     \u001b[38;5;66;03m# Check whether the filename is to be opened in binary mode.\u001b[39;00m\n\u001b[1;32m    860\u001b[0m     \u001b[38;5;66;03m# Binary mode does not support 'encoding' and 'newline'.\u001b[39;00m\n\u001b[1;32m    861\u001b[0m     \u001b[38;5;28;01mif\u001b[39;00m ioargs\u001b[38;5;241m.\u001b[39mencoding \u001b[38;5;129;01mand\u001b[39;00m \u001b[38;5;124m\"\u001b[39m\u001b[38;5;124mb\u001b[39m\u001b[38;5;124m\"\u001b[39m \u001b[38;5;129;01mnot\u001b[39;00m \u001b[38;5;129;01min\u001b[39;00m ioargs\u001b[38;5;241m.\u001b[39mmode:\n\u001b[1;32m    862\u001b[0m         \u001b[38;5;66;03m# Encoding\u001b[39;00m\n\u001b[0;32m--> 863\u001b[0m         handle \u001b[38;5;241m=\u001b[39m \u001b[38;5;28mopen\u001b[39m(\n\u001b[1;32m    864\u001b[0m             handle,\n\u001b[1;32m    865\u001b[0m             ioargs\u001b[38;5;241m.\u001b[39mmode,\n\u001b[1;32m    866\u001b[0m             encoding\u001b[38;5;241m=\u001b[39mioargs\u001b[38;5;241m.\u001b[39mencoding,\n\u001b[1;32m    867\u001b[0m             errors\u001b[38;5;241m=\u001b[39merrors,\n\u001b[1;32m    868\u001b[0m             newline\u001b[38;5;241m=\u001b[39m\u001b[38;5;124m\"\u001b[39m\u001b[38;5;124m\"\u001b[39m,\n\u001b[1;32m    869\u001b[0m         )\n\u001b[1;32m    870\u001b[0m     \u001b[38;5;28;01melse\u001b[39;00m:\n\u001b[1;32m    871\u001b[0m         \u001b[38;5;66;03m# Binary mode\u001b[39;00m\n\u001b[1;32m    872\u001b[0m         handle \u001b[38;5;241m=\u001b[39m \u001b[38;5;28mopen\u001b[39m(handle, ioargs\u001b[38;5;241m.\u001b[39mmode)\n",
      "\u001b[0;31mFileNotFoundError\u001b[0m: [Errno 2] No such file or directory: '/data/raw/hotel_booking.csv/'"
     ]
    }
   ],
   "source": [
    "df = pd.read_csv(relative_path)\n"
   ]
  },
  {
   "cell_type": "code",
   "execution_count": 15,
   "id": "04b2d0f2-ffd1-4ba9-bcb3-9784a5d4d02d",
   "metadata": {
    "tags": []
   },
   "outputs": [
    {
     "ename": "NameError",
     "evalue": "name 'df' is not defined",
     "output_type": "error",
     "traceback": [
      "\u001b[0;31m---------------------------------------------------------------------------\u001b[0m",
      "\u001b[0;31mNameError\u001b[0m                                 Traceback (most recent call last)",
      "Cell \u001b[0;32mIn[15], line 1\u001b[0m\n\u001b[0;32m----> 1\u001b[0m display(df)\n",
      "\u001b[0;31mNameError\u001b[0m: name 'df' is not defined"
     ]
    }
   ],
   "source": [
    "display(df)"
   ]
  },
  {
   "cell_type": "code",
   "execution_count": null,
   "id": "abb1da1d-144d-47d7-83f6-976164c90a43",
   "metadata": {
    "tags": []
   },
   "outputs": [],
   "source": [
    "df.info()"
   ]
  },
  {
   "cell_type": "code",
   "execution_count": null,
   "id": "37562ae5-8c65-4eff-8f60-df28cf8e3f2d",
   "metadata": {
    "tags": []
   },
   "outputs": [],
   "source": [
    "for column in df.columns:\n",
    "    # Check if any null values exist in the current column\n",
    "    if df[column].isnull().any():\n",
    "        print(f\"Column '{column}' contains null values.\")\n",
    "    else:\n",
    "        print(f\"Column '{column}' does not contain any null values.\")\n",
    "        "
   ]
  },
  {
   "cell_type": "code",
   "execution_count": null,
   "id": "fc9a5aeb-141e-4ab1-a2ed-c42bd9b239b2",
   "metadata": {
    "tags": []
   },
   "outputs": [],
   "source": [
    "# Filter columns with data types 'object' or 'int'\n",
    "filtered_columns = df.select_dtypes(include=['object', 'int']).columns\n",
    "\n",
    "# Loop through each filtered column and print unique values\n",
    "for column in filtered_columns:\n",
    "    unique_values = df[column].unique()\n",
    "    print(f\"Unique values in column '{column}': {unique_values}\")"
   ]
  },
  {
   "cell_type": "code",
   "execution_count": null,
   "id": "71011ff4-400f-45b5-97a5-fd345e9ac8cc",
   "metadata": {
    "tags": []
   },
   "outputs": [],
   "source": [
    "#4 columns with null values : children, country, agent and company"
   ]
  },
  {
   "cell_type": "code",
   "execution_count": null,
   "id": "98bbdb9f-106a-4924-87e8-b40134dea31c",
   "metadata": {
    "tags": []
   },
   "outputs": [],
   "source": [
    "test2 = df.copy()"
   ]
  },
  {
   "cell_type": "code",
   "execution_count": null,
   "id": "0bba7a1b-6902-498d-94eb-ca1b56520d58",
   "metadata": {
    "tags": []
   },
   "outputs": [],
   "source": [
    "#counting null values in all the data frame \n",
    "for column in df.columns:\n",
    "    null_count = df[column].isnull().sum()\n",
    "    print(f\"Number of null values in '{column}': {null_count}\")"
   ]
  },
  {
   "cell_type": "code",
   "execution_count": null,
   "id": "afae718d-f268-4fd9-9106-6f10568514e4",
   "metadata": {
    "tags": []
   },
   "outputs": [],
   "source": [
    "#replace the null values of \"children\" for the value mode \n",
    "df['children'] = df['children'].fillna(df['children'].mode()[0])\n",
    "\n",
    "#replace the null values of \"country\" for backwardfill \n",
    "\n",
    "df['country'] = df['country'].fillna(method='bfill')\n",
    "\n",
    "#replace the null values of \"agent\" for the value of mode\n",
    "df['agent'] = df['agent'].fillna(df['agent'].mode()[0])\n"
   ]
  },
  {
   "cell_type": "code",
   "execution_count": null,
   "id": "b23dc0df-ec9e-47c6-aa7f-baec2287c654",
   "metadata": {
    "tags": []
   },
   "outputs": [],
   "source": [
    "df.shape\n"
   ]
  },
  {
   "cell_type": "code",
   "execution_count": null,
   "id": "70acd3a3-d2a6-463e-a27b-ea481a848447",
   "metadata": {
    "tags": []
   },
   "outputs": [],
   "source": [
    "#Dropping column \"company\", 94% of the values are NaN. For this reason the best to do is just drop the column. \n",
    "\n",
    "df.drop('company', axis=1, inplace=True)\n"
   ]
  },
  {
   "cell_type": "code",
   "execution_count": null,
   "id": "7d3c5038-21e4-4170-83f4-44175df9c2e4",
   "metadata": {
    "tags": []
   },
   "outputs": [],
   "source": [
    "# Define the expected date format\n",
    "date_format = \"%Y-%m-%d\"\n",
    "\n",
    "# Check if dates in a specific column follow the same format\n",
    "column_name = 'reservation_status_date'\n",
    "\n",
    "# Parse dates using the specified format and catch any parsing errors\n",
    "try:\n",
    "    pd.to_datetime(test2[\"reservation_status_date\"], format=date_format, errors='raise')\n",
    "    print(f\"All dates in column '{column_name}' follow the format {date_format}.\")\n",
    "except ValueError as e:\n",
    "    print(f\"Not all dates in column '{column_name}' follow the format {date_format}.\")\n",
    "    print(f\"Error message: {e}\")"
   ]
  },
  {
   "cell_type": "code",
   "execution_count": null,
   "id": "e7e03fe4-4ffb-46f9-8ac7-9cdc80239539",
   "metadata": {
    "tags": []
   },
   "outputs": [],
   "source": [
    "df.dtypes"
   ]
  },
  {
   "cell_type": "code",
   "execution_count": null,
   "id": "6c2b41e6-7aef-4596-80a5-fdefa4d7fbb2",
   "metadata": {
    "tags": []
   },
   "outputs": [],
   "source": [
    "\n",
    "filtered_data = test2[(test2['hotel'] == 'Resort Hotel') | (test2['hotel'] == 'City Hotel')]\n",
    "\n",
    "# Step 2: Group the filtered DataFrame by \"policy_type\" and \"gender\"\n",
    "grouped_data = filtered_data.groupby(['hotel', 'is_canceled', \"arrival_date_year\"]).size()\n"
   ]
  },
  {
   "cell_type": "code",
   "execution_count": null,
   "id": "3e29b026-f961-4acb-8518-e62ebcb39f52",
   "metadata": {
    "tags": []
   },
   "outputs": [],
   "source": [
    "display(grouped_data)"
   ]
  },
  {
   "cell_type": "code",
   "execution_count": null,
   "id": "8dae10a0-e4f3-49e7-b16a-e696a1b30ed2",
   "metadata": {
    "tags": []
   },
   "outputs": [],
   "source": [
    "import matplotlib.pyplot as plt\n",
    "\n",
    "import seaborn as sns\n"
   ]
  },
  {
   "cell_type": "code",
   "execution_count": null,
   "id": "55f04032-9dd2-4935-93e5-2b8b5fed1a98",
   "metadata": {
    "tags": []
   },
   "outputs": [],
   "source": []
  },
  {
   "cell_type": "code",
   "execution_count": null,
   "id": "4e8d25fd-b4ce-48bf-9c1f-4a072dfe51e0",
   "metadata": {
    "tags": []
   },
   "outputs": [],
   "source": [
    "df[\"arrival_date_year\"]"
   ]
  },
  {
   "cell_type": "code",
   "execution_count": null,
   "id": "8caa06b7-19e8-4ffc-b5df-e90a8f9ed17a",
   "metadata": {
    "tags": []
   },
   "outputs": [],
   "source": [
    "df_agg"
   ]
  },
  {
   "cell_type": "code",
   "execution_count": null,
   "id": "8623c6e3-df5b-4f36-a73a-47a7a1b7d8b7",
   "metadata": {
    "tags": []
   },
   "outputs": [],
   "source": [
    "# Your DataFrame and plotting code\n",
    "df_agg = test2.groupby([\"hotel\", \"arrival_date_year\", \"arrival_date_month\"]).size().reset_index(name='arrivals')\n",
    "df_agg.columns = df_agg.columns.str.strip()\n",
    "\n",
    "\n",
    "\n",
    "# Define custom order for months\n",
    "custom_month_order = [\"January\", \"February\", \"March\", \"April\", \"May\", \"June\", \"July\", \"August\", \"September\", \"October\", \"November\", \"December\"]\n",
    "\n",
    "# Convert arrival_date_month to categorical data type with custom order\n",
    "df_agg['arrival_date_month'] = pd.Categorical(df_agg['arrival_date_month'], categories=custom_month_order, ordered=True)\n",
    "\n",
    "# Get unique years and hotel types from the filtered DataFrame\n",
    "unique_years = df_agg['arrival_date_year'].unique()\n",
    "unique_hotels = df_agg['hotel'].unique()\n",
    "\n",
    "# Define custom colors for years\n",
    "custom_palette = sns.color_palette(\"husl\", n_colors=len(unique_years))\n",
    "\n",
    "# Define custom line styles for hotel types\n",
    "custom_line_styles = ['-', '--']\n",
    "\n",
    "# Create a dictionary mapping years to colors\n",
    "year_color_dict = dict(zip(unique_years, custom_palette))\n",
    "\n",
    "# Create a dictionary mapping hotel types to line styles\n",
    "hotel_line_style_dict = dict(zip(unique_hotels, custom_line_styles))\n",
    "\n",
    "# Set the style for the plots\n",
    "sns.set(style=\"whitegrid\")\n",
    "\n",
    "# Create the line plot with adjusted transparency\n",
    "plt.figure(figsize=(12, 6))\n",
    "sns.lineplot(data=df_agg, x=\"arrival_date_month\", y=\"arrivals\", hue=\"arrival_date_year\", style=\"hotel\",\n",
    "             palette=year_color_dict, markers=True, dashes=False, hue_order=unique_years,\n",
    "             style_order=unique_hotels, linewidth=2)\n",
    "\n",
    "# Set axis labels and title\n",
    "plt.xlabel(\"Month\")\n",
    "plt.ylabel(\"Number of Arrivals\")\n",
    "plt.title(\"Monthly Arrivals for Each Hotel Over the Years (Excluding 2015)\")\n",
    "\n",
    "# Show the plot\n",
    "plt.legend(title=\"Year\")\n",
    "plt.xticks(rotation=45)  # Rotate x-axis labels for better readability\n",
    "plt.tight_layout()  # Adjust layout to prevent labels from being cut off\n",
    "plt.show()"
   ]
  },
  {
   "cell_type": "code",
   "execution_count": null,
   "id": "c8f971e7-17e5-4baa-989c-fe9119a0b1b2",
   "metadata": {
    "tags": []
   },
   "outputs": [],
   "source": [
    "df_agg_2 = test2.groupby([\"hotel\", \"market_segment\"]).size()"
   ]
  },
  {
   "cell_type": "code",
   "execution_count": null,
   "id": "a3ae2934-3d53-4bf2-8c63-665bffd37e28",
   "metadata": {
    "tags": []
   },
   "outputs": [],
   "source": [
    "df_agg_2"
   ]
  },
  {
   "cell_type": "code",
   "execution_count": null,
   "id": "9e4f2e5e-31ca-45fa-b08c-cad4efef1382",
   "metadata": {
    "tags": []
   },
   "outputs": [],
   "source": [
    "test2[\"market_segment\"].unique()"
   ]
  },
  {
   "cell_type": "code",
   "execution_count": null,
   "id": "11b287db-c7a2-4cf3-b2f5-3d27e8c9117d",
   "metadata": {
    "tags": []
   },
   "outputs": [],
   "source": [
    "test2[\"distribution_channel\"].unique()"
   ]
  },
  {
   "cell_type": "code",
   "execution_count": null,
   "id": "a7cf888e-f165-4b93-b37a-fba992969f23",
   "metadata": {
    "tags": []
   },
   "outputs": [],
   "source": [
    "import seaborn as sns\n",
    "import matplotlib.pyplot as plt\n",
    "\n",
    "# Your DataFrame and plotting code\n",
    "df_agg_2 = test2.groupby([\"hotel\", \"distribution_channel\"]).size().reset_index(name='Bookings')\n",
    "\n",
    "# Sort the DataFrame by the 'Bookings' column in descending order\n",
    "df_agg_2 = df_agg_2.sort_values(by='Bookings', ascending=False)\n",
    "\n",
    "# Set the style for the plots\n",
    "sns.set(style=\"whitegrid\")\n",
    "\n",
    "# Create the bar plot\n",
    "plt.figure(figsize=(12, 8))\n",
    "sns.barplot(data=df_agg_2, x=\"distribution_channel\", y=\"Bookings\", hue=\"hotel\")\n",
    "\n",
    "# Set axis labels and title\n",
    "plt.xlabel(\"Distribution Channel\")\n",
    "plt.ylabel(\"Number of Bookings\")\n",
    "plt.title(\"Bookings by Hotel and Distribution Channel\")\n",
    "\n",
    "# Show the legend\n",
    "plt.legend(title=\"Hotel\")\n",
    "\n",
    "# Rotate x-axis labels for better readability\n",
    "plt.xticks(rotation=45)\n",
    "\n",
    "# Show the plot\n",
    "plt.tight_layout()\n",
    "plt.show()"
   ]
  },
  {
   "cell_type": "code",
   "execution_count": 25,
   "id": "c269a84b-8005-4077-aaa3-d39e14ce6778",
   "metadata": {
    "tags": []
   },
   "outputs": [
    {
     "ename": "ModuleNotFoundError",
     "evalue": "No module named 'geopandas'",
     "output_type": "error",
     "traceback": [
      "\u001b[0;31m---------------------------------------------------------------------------\u001b[0m",
      "\u001b[0;31mModuleNotFoundError\u001b[0m                       Traceback (most recent call last)",
      "Cell \u001b[0;32mIn[25], line 1\u001b[0m\n\u001b[0;32m----> 1\u001b[0m \u001b[38;5;28;01mimport\u001b[39;00m \u001b[38;5;21;01mgeopandas\u001b[39;00m \u001b[38;5;28;01mas\u001b[39;00m \u001b[38;5;21;01mgpd\u001b[39;00m\n\u001b[1;32m      2\u001b[0m \u001b[38;5;28;01mimport\u001b[39;00m \u001b[38;5;21;01mplotly\u001b[39;00m\u001b[38;5;21;01m.\u001b[39;00m\u001b[38;5;21;01mexpress\u001b[39;00m \u001b[38;5;28;01mas\u001b[39;00m \u001b[38;5;21;01mpx\u001b[39;00m\n\u001b[1;32m      4\u001b[0m \u001b[38;5;66;03m# Read the shapefile\u001b[39;00m\n",
      "\u001b[0;31mModuleNotFoundError\u001b[0m: No module named 'geopandas'"
     ]
    }
   ],
   "source": [
    "import geopandas as gpd\n",
    "import plotly.express as px\n",
    "\n",
    "# Read the shapefile\n",
    "gdf = gpd.read_file(\"data/clean/ne_110m_admin_0_countries/\")  # Replace with the path to your shapefile\n",
    "\n",
    "# Convert to GeoJSON\n",
    "geojson = gdf.to_json()\n",
    "\n",
    "# Print the GeoJSON data\n",
    "\n"
   ]
  },
  {
   "cell_type": "code",
   "execution_count": null,
   "id": "98994431-0b19-4cd9-897b-bbe3fdbf3b5d",
   "metadata": {
    "tags": []
   },
   "outputs": [],
   "source": [
    "geojson"
   ]
  }
 ],
 "metadata": {
  "kernelspec": {
   "display_name": "venv",
   "language": "python",
   "name": "venv"
  },
  "language_info": {
   "codemirror_mode": {
    "name": "ipython",
    "version": 3
   },
   "file_extension": ".py",
   "mimetype": "text/x-python",
   "name": "python",
   "nbconvert_exporter": "python",
   "pygments_lexer": "ipython3",
   "version": "3.11.7"
  }
 },
 "nbformat": 4,
 "nbformat_minor": 5
}
