{
 "cells": [
  {
   "cell_type": "code",
   "execution_count": 2,
   "id": "83efee90-5a2d-4df5-ba0a-66ec378c3591",
   "metadata": {
    "tags": []
   },
   "outputs": [],
   "source": [
    "import pandas as pd"
   ]
  },
  {
   "cell_type": "code",
   "execution_count": 3,
   "id": "5a7f8d2d-fbf2-4756-8339-3889a35cef9f",
   "metadata": {
    "tags": []
   },
   "outputs": [
    {
     "ename": "SyntaxError",
     "evalue": "invalid syntax (260151000.py, line 1)",
     "output_type": "error",
     "traceback": [
      "\u001b[0;36m  Cell \u001b[0;32mIn[3], line 1\u001b[0;36m\u001b[0m\n\u001b[0;31m    import geopandas gpd\u001b[0m\n\u001b[0m                     ^\u001b[0m\n\u001b[0;31mSyntaxError\u001b[0m\u001b[0;31m:\u001b[0m invalid syntax\n"
     ]
    }
   ],
   "source": [
    "import geopandas gpd"
   ]
  },
  {
   "cell_type": "code",
   "execution_count": null,
   "id": "ce68a5a0-d6a4-497f-8c28-4e57b9520527",
   "metadata": {
    "tags": []
   },
   "outputs": [],
   "source": [
    "relative_path = 'data/raw/hotel_bookings.csv'\n",
    "\n",
    "\n",
    "df = pd.read_csv(relative_path)\n"
   ]
  },
  {
   "cell_type": "code",
   "execution_count": null,
   "id": "04b2d0f2-ffd1-4ba9-bcb3-9784a5d4d02d",
   "metadata": {
    "tags": []
   },
   "outputs": [],
   "source": [
    "display(df)"
   ]
  },
  {
   "cell_type": "code",
   "execution_count": null,
   "id": "abb1da1d-144d-47d7-83f6-976164c90a43",
   "metadata": {
    "tags": []
   },
   "outputs": [],
   "source": [
    "df.info()"
   ]
  },
  {
   "cell_type": "code",
   "execution_count": null,
   "id": "37562ae5-8c65-4eff-8f60-df28cf8e3f2d",
   "metadata": {
    "tags": []
   },
   "outputs": [],
   "source": [
    "for column in df.columns:\n",
    "    # Check if any null values exist in the current column\n",
    "    if df[column].isnull().any():\n",
    "        print(f\"Column '{column}' contains null values.\")\n",
    "    else:\n",
    "        print(f\"Column '{column}' does not contain any null values.\")\n",
    "        "
   ]
  },
  {
   "cell_type": "code",
   "execution_count": null,
   "id": "fc9a5aeb-141e-4ab1-a2ed-c42bd9b239b2",
   "metadata": {
    "tags": []
   },
   "outputs": [],
   "source": [
    "# Filter columns with data types 'object' or 'int'\n",
    "filtered_columns = df.select_dtypes(include=['object', 'int']).columns\n",
    "\n",
    "# Loop through each filtered column and print unique values\n",
    "for column in filtered_columns:\n",
    "    unique_values = df[column].unique()\n",
    "    print(f\"Unique values in column '{column}': {unique_values}\")"
   ]
  },
  {
   "cell_type": "code",
   "execution_count": null,
   "id": "71011ff4-400f-45b5-97a5-fd345e9ac8cc",
   "metadata": {
    "tags": []
   },
   "outputs": [],
   "source": [
    "#4 columns with null values : children, country, agent and company"
   ]
  },
  {
   "cell_type": "code",
   "execution_count": null,
   "id": "98bbdb9f-106a-4924-87e8-b40134dea31c",
   "metadata": {
    "tags": []
   },
   "outputs": [],
   "source": [
    "test2 = df.copy()"
   ]
  },
  {
   "cell_type": "code",
   "execution_count": null,
   "id": "0bba7a1b-6902-498d-94eb-ca1b56520d58",
   "metadata": {
    "tags": []
   },
   "outputs": [],
   "source": [
    "#counting null values in all the data frame \n",
    "for column in df.columns:\n",
    "    null_count = df[column].isnull().sum()\n",
    "    print(f\"Number of null values in '{column}': {null_count}\")"
   ]
  },
  {
   "cell_type": "code",
   "execution_count": null,
   "id": "afae718d-f268-4fd9-9106-6f10568514e4",
   "metadata": {
    "tags": []
   },
   "outputs": [],
   "source": [
    "#replace the null values of \"children\" for the value mode \n",
    "df['children'] = df['children'].fillna(df['children'].mode()[0])\n",
    "\n",
    "#replace the null values of \"country\" for backwardfill \n",
    "\n",
    "df['country'] = df['country'].fillna(method='bfill')\n",
    "\n",
    "#replace the null values of \"agent\" for the value of mode\n",
    "df['agent'] = df['agent'].fillna(df['agent'].mode()[0])\n"
   ]
  },
  {
   "cell_type": "code",
   "execution_count": null,
   "id": "b23dc0df-ec9e-47c6-aa7f-baec2287c654",
   "metadata": {
    "tags": []
   },
   "outputs": [],
   "source": [
    "df.shape\n"
   ]
  },
  {
   "cell_type": "code",
   "execution_count": null,
   "id": "70acd3a3-d2a6-463e-a27b-ea481a848447",
   "metadata": {
    "tags": []
   },
   "outputs": [],
   "source": [
    "#Dropping column \"company\", 94% of the values are NaN. For this reason the best to do is just drop the column. \n",
    "\n",
    "df.drop('company', axis=1, inplace=True)\n"
   ]
  },
  {
   "cell_type": "code",
   "execution_count": null,
   "id": "7d3c5038-21e4-4170-83f4-44175df9c2e4",
   "metadata": {
    "tags": []
   },
   "outputs": [],
   "source": [
    "# Define the expected date format\n",
    "date_format = \"%Y-%m-%d\"\n",
    "\n",
    "# Check if dates in a specific column follow the same format\n",
    "column_name = 'reservation_status_date'\n",
    "\n",
    "# Parse dates using the specified format and catch any parsing errors\n",
    "try:\n",
    "    pd.to_datetime(test2[\"reservation_status_date\"], format=date_format, errors='raise')\n",
    "    print(f\"All dates in column '{column_name}' follow the format {date_format}.\")\n",
    "except ValueError as e:\n",
    "    print(f\"Not all dates in column '{column_name}' follow the format {date_format}.\")\n",
    "    print(f\"Error message: {e}\")"
   ]
  },
  {
   "cell_type": "code",
   "execution_count": null,
   "id": "e7e03fe4-4ffb-46f9-8ac7-9cdc80239539",
   "metadata": {
    "tags": []
   },
   "outputs": [],
   "source": [
    "df.dtypes"
   ]
  },
  {
   "cell_type": "code",
   "execution_count": null,
   "id": "6c2b41e6-7aef-4596-80a5-fdefa4d7fbb2",
   "metadata": {
    "tags": []
   },
   "outputs": [],
   "source": [
    "\n",
    "filtered_data = test2[(test2['hotel'] == 'Resort Hotel') | (test2['hotel'] == 'City Hotel')]\n",
    "\n",
    "# Step 2: Group the filtered DataFrame by \"policy_type\" and \"gender\"\n",
    "grouped_data = filtered_data.groupby(['hotel', 'is_canceled', \"arrival_date_year\"]).size()\n"
   ]
  },
  {
   "cell_type": "code",
   "execution_count": null,
   "id": "3e29b026-f961-4acb-8518-e62ebcb39f52",
   "metadata": {
    "tags": []
   },
   "outputs": [],
   "source": [
    "display(grouped_data)"
   ]
  },
  {
   "cell_type": "code",
   "execution_count": null,
   "id": "8dae10a0-e4f3-49e7-b16a-e696a1b30ed2",
   "metadata": {
    "tags": []
   },
   "outputs": [],
   "source": [
    "import matplotlib.pyplot as plt\n",
    "\n",
    "import seaborn as sns\n"
   ]
  },
  {
   "cell_type": "code",
   "execution_count": null,
   "id": "55f04032-9dd2-4935-93e5-2b8b5fed1a98",
   "metadata": {
    "tags": []
   },
   "outputs": [],
   "source": []
  },
  {
   "cell_type": "code",
   "execution_count": null,
   "id": "4e8d25fd-b4ce-48bf-9c1f-4a072dfe51e0",
   "metadata": {
    "tags": []
   },
   "outputs": [],
   "source": [
    "df[\"arrival_date_year\"]"
   ]
  },
  {
   "cell_type": "code",
   "execution_count": null,
   "id": "8caa06b7-19e8-4ffc-b5df-e90a8f9ed17a",
   "metadata": {
    "tags": []
   },
   "outputs": [],
   "source": [
    "df_agg"
   ]
  },
  {
   "cell_type": "code",
   "execution_count": null,
   "id": "8623c6e3-df5b-4f36-a73a-47a7a1b7d8b7",
   "metadata": {
    "tags": []
   },
   "outputs": [],
   "source": [
    "# Your DataFrame and plotting code\n",
    "df_agg = test2.groupby([\"hotel\", \"arrival_date_year\", \"arrival_date_month\"]).size().reset_index(name='arrivals')\n",
    "df_agg.columns = df_agg.columns.str.strip()\n",
    "\n",
    "\n",
    "\n",
    "# Define custom order for months\n",
    "custom_month_order = [\"January\", \"February\", \"March\", \"April\", \"May\", \"June\", \"July\", \"August\", \"September\", \"October\", \"November\", \"December\"]\n",
    "\n",
    "# Convert arrival_date_month to categorical data type with custom order\n",
    "df_agg['arrival_date_month'] = pd.Categorical(df_agg['arrival_date_month'], categories=custom_month_order, ordered=True)\n",
    "\n",
    "# Get unique years and hotel types from the filtered DataFrame\n",
    "unique_years = df_agg['arrival_date_year'].unique()\n",
    "unique_hotels = df_agg['hotel'].unique()\n",
    "\n",
    "# Define custom colors for years\n",
    "custom_palette = sns.color_palette(\"husl\", n_colors=len(unique_years))\n",
    "\n",
    "# Define custom line styles for hotel types\n",
    "custom_line_styles = ['-', '--']\n",
    "\n",
    "# Create a dictionary mapping years to colors\n",
    "year_color_dict = dict(zip(unique_years, custom_palette))\n",
    "\n",
    "# Create a dictionary mapping hotel types to line styles\n",
    "hotel_line_style_dict = dict(zip(unique_hotels, custom_line_styles))\n",
    "\n",
    "# Set the style for the plots\n",
    "sns.set(style=\"whitegrid\")\n",
    "\n",
    "# Create the line plot with adjusted transparency\n",
    "plt.figure(figsize=(12, 6))\n",
    "sns.lineplot(data=df_agg, x=\"arrival_date_month\", y=\"arrivals\", hue=\"arrival_date_year\", style=\"hotel\",\n",
    "             palette=year_color_dict, markers=True, dashes=False, hue_order=unique_years,\n",
    "             style_order=unique_hotels, linewidth=2)\n",
    "\n",
    "# Set axis labels and title\n",
    "plt.xlabel(\"Month\")\n",
    "plt.ylabel(\"Number of Arrivals\")\n",
    "plt.title(\"Monthly Arrivals for Each Hotel Over the Years (Excluding 2015)\")\n",
    "\n",
    "# Show the plot\n",
    "plt.legend(title=\"Year\")\n",
    "plt.xticks(rotation=45)  # Rotate x-axis labels for better readability\n",
    "plt.tight_layout()  # Adjust layout to prevent labels from being cut off\n",
    "plt.show()"
   ]
  },
  {
   "cell_type": "code",
   "execution_count": null,
   "id": "c8f971e7-17e5-4baa-989c-fe9119a0b1b2",
   "metadata": {
    "tags": []
   },
   "outputs": [],
   "source": [
    "df_agg_2 = test2.groupby([\"hotel\", \"market_segment\"]).size()"
   ]
  },
  {
   "cell_type": "code",
   "execution_count": null,
   "id": "a3ae2934-3d53-4bf2-8c63-665bffd37e28",
   "metadata": {
    "tags": []
   },
   "outputs": [],
   "source": [
    "df_agg_2"
   ]
  },
  {
   "cell_type": "code",
   "execution_count": null,
   "id": "9e4f2e5e-31ca-45fa-b08c-cad4efef1382",
   "metadata": {
    "tags": []
   },
   "outputs": [],
   "source": [
    "test2[\"market_segment\"].unique()"
   ]
  },
  {
   "cell_type": "code",
   "execution_count": null,
   "id": "11b287db-c7a2-4cf3-b2f5-3d27e8c9117d",
   "metadata": {
    "tags": []
   },
   "outputs": [],
   "source": [
    "test2[\"distribution_channel\"].unique()"
   ]
  },
  {
   "cell_type": "code",
   "execution_count": null,
   "id": "a7cf888e-f165-4b93-b37a-fba992969f23",
   "metadata": {
    "tags": []
   },
   "outputs": [],
   "source": [
    "import seaborn as sns\n",
    "import matplotlib.pyplot as plt\n",
    "\n",
    "# Your DataFrame and plotting code\n",
    "df_agg_2 = test2.groupby([\"hotel\", \"distribution_channel\"]).size().reset_index(name='Bookings')\n",
    "\n",
    "# Sort the DataFrame by the 'Bookings' column in descending order\n",
    "df_agg_2 = df_agg_2.sort_values(by='Bookings', ascending=False)\n",
    "\n",
    "# Set the style for the plots\n",
    "sns.set(style=\"whitegrid\")\n",
    "\n",
    "# Create the bar plot\n",
    "plt.figure(figsize=(12, 8))\n",
    "sns.barplot(data=df_agg_2, x=\"distribution_channel\", y=\"Bookings\", hue=\"hotel\")\n",
    "\n",
    "# Set axis labels and title\n",
    "plt.xlabel(\"Distribution Channel\")\n",
    "plt.ylabel(\"Number of Bookings\")\n",
    "plt.title(\"Bookings by Hotel and Distribution Channel\")\n",
    "\n",
    "# Show the legend\n",
    "plt.legend(title=\"Hotel\")\n",
    "\n",
    "# Rotate x-axis labels for better readability\n",
    "plt.xticks(rotation=45)\n",
    "\n",
    "# Show the plot\n",
    "plt.tight_layout()\n",
    "plt.show()"
   ]
  },
  {
   "cell_type": "code",
   "execution_count": 25,
   "id": "c269a84b-8005-4077-aaa3-d39e14ce6778",
   "metadata": {
    "tags": []
   },
   "outputs": [
    {
     "ename": "ModuleNotFoundError",
     "evalue": "No module named 'geopandas'",
     "output_type": "error",
     "traceback": [
      "\u001b[0;31m---------------------------------------------------------------------------\u001b[0m",
      "\u001b[0;31mModuleNotFoundError\u001b[0m                       Traceback (most recent call last)",
      "Cell \u001b[0;32mIn[25], line 1\u001b[0m\n\u001b[0;32m----> 1\u001b[0m \u001b[38;5;28;01mimport\u001b[39;00m \u001b[38;5;21;01mgeopandas\u001b[39;00m \u001b[38;5;28;01mas\u001b[39;00m \u001b[38;5;21;01mgpd\u001b[39;00m\n\u001b[1;32m      2\u001b[0m \u001b[38;5;28;01mimport\u001b[39;00m \u001b[38;5;21;01mplotly\u001b[39;00m\u001b[38;5;21;01m.\u001b[39;00m\u001b[38;5;21;01mexpress\u001b[39;00m \u001b[38;5;28;01mas\u001b[39;00m \u001b[38;5;21;01mpx\u001b[39;00m\n\u001b[1;32m      4\u001b[0m \u001b[38;5;66;03m# Read the shapefile\u001b[39;00m\n",
      "\u001b[0;31mModuleNotFoundError\u001b[0m: No module named 'geopandas'"
     ]
    }
   ],
   "source": [
    "import geopandas as gpd\n",
    "import plotly.express as px\n",
    "\n",
    "# Read the shapefile\n",
    "gdf = gpd.read_file(\"data/clean/ne_110m_admin_0_countries/\")  # Replace with the path to your shapefile\n",
    "\n",
    "# Convert to GeoJSON\n",
    "geojson = gdf.to_json()\n",
    "\n",
    "# Print the GeoJSON data\n",
    "\n"
   ]
  },
  {
   "cell_type": "code",
   "execution_count": null,
   "id": "98994431-0b19-4cd9-897b-bbe3fdbf3b5d",
   "metadata": {
    "tags": []
   },
   "outputs": [],
   "source": [
    "geojson"
   ]
  }
 ],
 "metadata": {
  "kernelspec": {
   "display_name": "Python 3 (ipykernel)",
   "language": "python",
   "name": "python3"
  },
  "language_info": {
   "codemirror_mode": {
    "name": "ipython",
    "version": 3
   },
   "file_extension": ".py",
   "mimetype": "text/x-python",
   "name": "python",
   "nbconvert_exporter": "python",
   "pygments_lexer": "ipython3",
   "version": "3.11.7"
  }
 },
 "nbformat": 4,
 "nbformat_minor": 5
}
