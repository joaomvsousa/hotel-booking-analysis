{
 "cells": [
  {
   "cell_type": "markdown",
   "id": "ad664761-3792-4436-b742-9be6af5a0cc7",
   "metadata": {},
   "source": [
    "# Hotel Booking Analysis"
   ]
  },
  {
   "cell_type": "markdown",
   "id": "9da13896-7752-4514-8beb-46fd4bdbb5ee",
   "metadata": {},
   "source": [
    "## Import Dataset "
   ]
  },
  {
   "cell_type": "code",
   "execution_count": 15,
   "id": "83efee90-5a2d-4df5-ba0a-66ec378c3591",
   "metadata": {
    "tags": []
   },
   "outputs": [],
   "source": [
    "import pandas as pd\n",
    "import seaborn as sns\n",
    "import matplotlib.pyplot as plt"
   ]
  },
  {
   "cell_type": "code",
   "execution_count": 16,
   "id": "ce68a5a0-d6a4-497f-8c28-4e57b9520527",
   "metadata": {
    "tags": []
   },
   "outputs": [],
   "source": [
    "relative_path = \"../data/raw/hotel_booking.csv\"\n",
    "df = pd.read_csv(relative_path)"
   ]
  },
  {
   "cell_type": "code",
   "execution_count": 17,
   "id": "2089eb53-5344-4e45-af59-ea74dd995c16",
   "metadata": {
    "tags": []
   },
   "outputs": [
    {
     "data": {
      "text/plain": [
       "['hotel',\n",
       " 'is_canceled',\n",
       " 'lead_time',\n",
       " 'arrival_date_year',\n",
       " 'arrival_date_month',\n",
       " 'arrival_date_week_number',\n",
       " 'arrival_date_day_of_month',\n",
       " 'stays_in_weekend_nights',\n",
       " 'stays_in_week_nights',\n",
       " 'adults',\n",
       " 'children',\n",
       " 'babies',\n",
       " 'meal',\n",
       " 'country',\n",
       " 'market_segment',\n",
       " 'distribution_channel',\n",
       " 'is_repeated_guest',\n",
       " 'previous_cancellations',\n",
       " 'previous_bookings_not_canceled',\n",
       " 'reserved_room_type',\n",
       " 'assigned_room_type',\n",
       " 'booking_changes',\n",
       " 'deposit_type',\n",
       " 'agent',\n",
       " 'company',\n",
       " 'days_in_waiting_list',\n",
       " 'customer_type',\n",
       " 'adr',\n",
       " 'required_car_parking_spaces',\n",
       " 'total_of_special_requests',\n",
       " 'reservation_status',\n",
       " 'reservation_status_date']"
      ]
     },
     "execution_count": 17,
     "metadata": {},
     "output_type": "execute_result"
    }
   ],
   "source": [
    "# Overview of all the columns in dataset\n",
    "list(df.columns)"
   ]
  },
  {
   "cell_type": "code",
   "execution_count": 18,
   "id": "03241b2f-26eb-4b52-84cb-28765c0c2b83",
   "metadata": {
    "tags": []
   },
   "outputs": [
    {
     "data": {
      "text/html": [
       "<div>\n",
       "<style scoped>\n",
       "    .dataframe tbody tr th:only-of-type {\n",
       "        vertical-align: middle;\n",
       "    }\n",
       "\n",
       "    .dataframe tbody tr th {\n",
       "        vertical-align: top;\n",
       "    }\n",
       "\n",
       "    .dataframe thead th {\n",
       "        text-align: right;\n",
       "    }\n",
       "</style>\n",
       "<table border=\"1\" class=\"dataframe\">\n",
       "  <thead>\n",
       "    <tr style=\"text-align: right;\">\n",
       "      <th></th>\n",
       "      <th>hotel</th>\n",
       "      <th>is_canceled</th>\n",
       "      <th>lead_time</th>\n",
       "      <th>arrival_date_year</th>\n",
       "      <th>arrival_date_month</th>\n",
       "      <th>arrival_date_week_number</th>\n",
       "      <th>arrival_date_day_of_month</th>\n",
       "      <th>stays_in_weekend_nights</th>\n",
       "      <th>stays_in_week_nights</th>\n",
       "      <th>adults</th>\n",
       "      <th>...</th>\n",
       "      <th>deposit_type</th>\n",
       "      <th>agent</th>\n",
       "      <th>company</th>\n",
       "      <th>days_in_waiting_list</th>\n",
       "      <th>customer_type</th>\n",
       "      <th>adr</th>\n",
       "      <th>required_car_parking_spaces</th>\n",
       "      <th>total_of_special_requests</th>\n",
       "      <th>reservation_status</th>\n",
       "      <th>reservation_status_date</th>\n",
       "    </tr>\n",
       "  </thead>\n",
       "  <tbody>\n",
       "    <tr>\n",
       "      <th>0</th>\n",
       "      <td>Resort Hotel</td>\n",
       "      <td>0</td>\n",
       "      <td>342</td>\n",
       "      <td>2015</td>\n",
       "      <td>July</td>\n",
       "      <td>27</td>\n",
       "      <td>1</td>\n",
       "      <td>0</td>\n",
       "      <td>0</td>\n",
       "      <td>2</td>\n",
       "      <td>...</td>\n",
       "      <td>No Deposit</td>\n",
       "      <td>NaN</td>\n",
       "      <td>NaN</td>\n",
       "      <td>0</td>\n",
       "      <td>Transient</td>\n",
       "      <td>0.0</td>\n",
       "      <td>0</td>\n",
       "      <td>0</td>\n",
       "      <td>Check-Out</td>\n",
       "      <td>2015-07-01</td>\n",
       "    </tr>\n",
       "    <tr>\n",
       "      <th>1</th>\n",
       "      <td>Resort Hotel</td>\n",
       "      <td>0</td>\n",
       "      <td>737</td>\n",
       "      <td>2015</td>\n",
       "      <td>July</td>\n",
       "      <td>27</td>\n",
       "      <td>1</td>\n",
       "      <td>0</td>\n",
       "      <td>0</td>\n",
       "      <td>2</td>\n",
       "      <td>...</td>\n",
       "      <td>No Deposit</td>\n",
       "      <td>NaN</td>\n",
       "      <td>NaN</td>\n",
       "      <td>0</td>\n",
       "      <td>Transient</td>\n",
       "      <td>0.0</td>\n",
       "      <td>0</td>\n",
       "      <td>0</td>\n",
       "      <td>Check-Out</td>\n",
       "      <td>2015-07-01</td>\n",
       "    </tr>\n",
       "    <tr>\n",
       "      <th>2</th>\n",
       "      <td>Resort Hotel</td>\n",
       "      <td>0</td>\n",
       "      <td>7</td>\n",
       "      <td>2015</td>\n",
       "      <td>July</td>\n",
       "      <td>27</td>\n",
       "      <td>1</td>\n",
       "      <td>0</td>\n",
       "      <td>1</td>\n",
       "      <td>1</td>\n",
       "      <td>...</td>\n",
       "      <td>No Deposit</td>\n",
       "      <td>NaN</td>\n",
       "      <td>NaN</td>\n",
       "      <td>0</td>\n",
       "      <td>Transient</td>\n",
       "      <td>75.0</td>\n",
       "      <td>0</td>\n",
       "      <td>0</td>\n",
       "      <td>Check-Out</td>\n",
       "      <td>2015-07-02</td>\n",
       "    </tr>\n",
       "    <tr>\n",
       "      <th>3</th>\n",
       "      <td>Resort Hotel</td>\n",
       "      <td>0</td>\n",
       "      <td>13</td>\n",
       "      <td>2015</td>\n",
       "      <td>July</td>\n",
       "      <td>27</td>\n",
       "      <td>1</td>\n",
       "      <td>0</td>\n",
       "      <td>1</td>\n",
       "      <td>1</td>\n",
       "      <td>...</td>\n",
       "      <td>No Deposit</td>\n",
       "      <td>304.0</td>\n",
       "      <td>NaN</td>\n",
       "      <td>0</td>\n",
       "      <td>Transient</td>\n",
       "      <td>75.0</td>\n",
       "      <td>0</td>\n",
       "      <td>0</td>\n",
       "      <td>Check-Out</td>\n",
       "      <td>2015-07-02</td>\n",
       "    </tr>\n",
       "    <tr>\n",
       "      <th>4</th>\n",
       "      <td>Resort Hotel</td>\n",
       "      <td>0</td>\n",
       "      <td>14</td>\n",
       "      <td>2015</td>\n",
       "      <td>July</td>\n",
       "      <td>27</td>\n",
       "      <td>1</td>\n",
       "      <td>0</td>\n",
       "      <td>2</td>\n",
       "      <td>2</td>\n",
       "      <td>...</td>\n",
       "      <td>No Deposit</td>\n",
       "      <td>240.0</td>\n",
       "      <td>NaN</td>\n",
       "      <td>0</td>\n",
       "      <td>Transient</td>\n",
       "      <td>98.0</td>\n",
       "      <td>0</td>\n",
       "      <td>1</td>\n",
       "      <td>Check-Out</td>\n",
       "      <td>2015-07-03</td>\n",
       "    </tr>\n",
       "  </tbody>\n",
       "</table>\n",
       "<p>5 rows × 32 columns</p>\n",
       "</div>"
      ],
      "text/plain": [
       "          hotel  is_canceled  lead_time  arrival_date_year arrival_date_month  \\\n",
       "0  Resort Hotel            0        342               2015               July   \n",
       "1  Resort Hotel            0        737               2015               July   \n",
       "2  Resort Hotel            0          7               2015               July   \n",
       "3  Resort Hotel            0         13               2015               July   \n",
       "4  Resort Hotel            0         14               2015               July   \n",
       "\n",
       "   arrival_date_week_number  arrival_date_day_of_month  \\\n",
       "0                        27                          1   \n",
       "1                        27                          1   \n",
       "2                        27                          1   \n",
       "3                        27                          1   \n",
       "4                        27                          1   \n",
       "\n",
       "   stays_in_weekend_nights  stays_in_week_nights  adults  ...  deposit_type  \\\n",
       "0                        0                     0       2  ...    No Deposit   \n",
       "1                        0                     0       2  ...    No Deposit   \n",
       "2                        0                     1       1  ...    No Deposit   \n",
       "3                        0                     1       1  ...    No Deposit   \n",
       "4                        0                     2       2  ...    No Deposit   \n",
       "\n",
       "   agent company days_in_waiting_list customer_type   adr  \\\n",
       "0    NaN     NaN                    0     Transient   0.0   \n",
       "1    NaN     NaN                    0     Transient   0.0   \n",
       "2    NaN     NaN                    0     Transient  75.0   \n",
       "3  304.0     NaN                    0     Transient  75.0   \n",
       "4  240.0     NaN                    0     Transient  98.0   \n",
       "\n",
       "   required_car_parking_spaces  total_of_special_requests  reservation_status  \\\n",
       "0                            0                          0           Check-Out   \n",
       "1                            0                          0           Check-Out   \n",
       "2                            0                          0           Check-Out   \n",
       "3                            0                          0           Check-Out   \n",
       "4                            0                          1           Check-Out   \n",
       "\n",
       "  reservation_status_date  \n",
       "0              2015-07-01  \n",
       "1              2015-07-01  \n",
       "2              2015-07-02  \n",
       "3              2015-07-02  \n",
       "4              2015-07-03  \n",
       "\n",
       "[5 rows x 32 columns]"
      ]
     },
     "execution_count": 18,
     "metadata": {},
     "output_type": "execute_result"
    }
   ],
   "source": [
    "df.head()"
   ]
  },
  {
   "cell_type": "markdown",
   "id": "fc0cf8b7-7205-4f18-8b52-834e60a11c72",
   "metadata": {},
   "source": [
    "## Data Cleaning & EDA visualizations "
   ]
  },
  {
   "cell_type": "code",
   "execution_count": 20,
   "id": "80ede89f-450b-460d-86e0-9daa7a949581",
   "metadata": {},
   "outputs": [
    {
     "data": {
      "text/html": [
       "<div>\n",
       "<style scoped>\n",
       "    .dataframe tbody tr th:only-of-type {\n",
       "        vertical-align: middle;\n",
       "    }\n",
       "\n",
       "    .dataframe tbody tr th {\n",
       "        vertical-align: top;\n",
       "    }\n",
       "\n",
       "    .dataframe thead th {\n",
       "        text-align: right;\n",
       "    }\n",
       "</style>\n",
       "<table border=\"1\" class=\"dataframe\">\n",
       "  <thead>\n",
       "    <tr style=\"text-align: right;\">\n",
       "      <th></th>\n",
       "      <th>guest_id</th>\n",
       "      <th>hotel</th>\n",
       "      <th>is_canceled</th>\n",
       "      <th>lead_time</th>\n",
       "      <th>arrival_date_year</th>\n",
       "      <th>arrival_date_month</th>\n",
       "      <th>arrival_date_week_number</th>\n",
       "      <th>arrival_date_day_of_month</th>\n",
       "      <th>stays_in_weekend_nights</th>\n",
       "      <th>stays_in_week_nights</th>\n",
       "      <th>...</th>\n",
       "      <th>deposit_type</th>\n",
       "      <th>agent</th>\n",
       "      <th>company</th>\n",
       "      <th>days_in_waiting_list</th>\n",
       "      <th>customer_type</th>\n",
       "      <th>adr</th>\n",
       "      <th>required_car_parking_spaces</th>\n",
       "      <th>total_of_special_requests</th>\n",
       "      <th>reservation_status</th>\n",
       "      <th>reservation_status_date</th>\n",
       "    </tr>\n",
       "  </thead>\n",
       "  <tbody>\n",
       "    <tr>\n",
       "      <th>0</th>\n",
       "      <td>0</td>\n",
       "      <td>Resort Hotel</td>\n",
       "      <td>0</td>\n",
       "      <td>342</td>\n",
       "      <td>2015</td>\n",
       "      <td>July</td>\n",
       "      <td>27</td>\n",
       "      <td>1</td>\n",
       "      <td>0</td>\n",
       "      <td>0</td>\n",
       "      <td>...</td>\n",
       "      <td>No Deposit</td>\n",
       "      <td>NaN</td>\n",
       "      <td>NaN</td>\n",
       "      <td>0</td>\n",
       "      <td>Transient</td>\n",
       "      <td>0.0</td>\n",
       "      <td>0</td>\n",
       "      <td>0</td>\n",
       "      <td>Check-Out</td>\n",
       "      <td>2015-07-01</td>\n",
       "    </tr>\n",
       "    <tr>\n",
       "      <th>1</th>\n",
       "      <td>1</td>\n",
       "      <td>Resort Hotel</td>\n",
       "      <td>0</td>\n",
       "      <td>737</td>\n",
       "      <td>2015</td>\n",
       "      <td>July</td>\n",
       "      <td>27</td>\n",
       "      <td>1</td>\n",
       "      <td>0</td>\n",
       "      <td>0</td>\n",
       "      <td>...</td>\n",
       "      <td>No Deposit</td>\n",
       "      <td>NaN</td>\n",
       "      <td>NaN</td>\n",
       "      <td>0</td>\n",
       "      <td>Transient</td>\n",
       "      <td>0.0</td>\n",
       "      <td>0</td>\n",
       "      <td>0</td>\n",
       "      <td>Check-Out</td>\n",
       "      <td>2015-07-01</td>\n",
       "    </tr>\n",
       "    <tr>\n",
       "      <th>2</th>\n",
       "      <td>2</td>\n",
       "      <td>Resort Hotel</td>\n",
       "      <td>0</td>\n",
       "      <td>7</td>\n",
       "      <td>2015</td>\n",
       "      <td>July</td>\n",
       "      <td>27</td>\n",
       "      <td>1</td>\n",
       "      <td>0</td>\n",
       "      <td>1</td>\n",
       "      <td>...</td>\n",
       "      <td>No Deposit</td>\n",
       "      <td>NaN</td>\n",
       "      <td>NaN</td>\n",
       "      <td>0</td>\n",
       "      <td>Transient</td>\n",
       "      <td>75.0</td>\n",
       "      <td>0</td>\n",
       "      <td>0</td>\n",
       "      <td>Check-Out</td>\n",
       "      <td>2015-07-02</td>\n",
       "    </tr>\n",
       "    <tr>\n",
       "      <th>3</th>\n",
       "      <td>3</td>\n",
       "      <td>Resort Hotel</td>\n",
       "      <td>0</td>\n",
       "      <td>13</td>\n",
       "      <td>2015</td>\n",
       "      <td>July</td>\n",
       "      <td>27</td>\n",
       "      <td>1</td>\n",
       "      <td>0</td>\n",
       "      <td>1</td>\n",
       "      <td>...</td>\n",
       "      <td>No Deposit</td>\n",
       "      <td>304.0</td>\n",
       "      <td>NaN</td>\n",
       "      <td>0</td>\n",
       "      <td>Transient</td>\n",
       "      <td>75.0</td>\n",
       "      <td>0</td>\n",
       "      <td>0</td>\n",
       "      <td>Check-Out</td>\n",
       "      <td>2015-07-02</td>\n",
       "    </tr>\n",
       "    <tr>\n",
       "      <th>4</th>\n",
       "      <td>4</td>\n",
       "      <td>Resort Hotel</td>\n",
       "      <td>0</td>\n",
       "      <td>14</td>\n",
       "      <td>2015</td>\n",
       "      <td>July</td>\n",
       "      <td>27</td>\n",
       "      <td>1</td>\n",
       "      <td>0</td>\n",
       "      <td>2</td>\n",
       "      <td>...</td>\n",
       "      <td>No Deposit</td>\n",
       "      <td>240.0</td>\n",
       "      <td>NaN</td>\n",
       "      <td>0</td>\n",
       "      <td>Transient</td>\n",
       "      <td>98.0</td>\n",
       "      <td>0</td>\n",
       "      <td>1</td>\n",
       "      <td>Check-Out</td>\n",
       "      <td>2015-07-03</td>\n",
       "    </tr>\n",
       "  </tbody>\n",
       "</table>\n",
       "<p>5 rows × 33 columns</p>\n",
       "</div>"
      ],
      "text/plain": [
       "   guest_id         hotel  is_canceled  lead_time  arrival_date_year  \\\n",
       "0         0  Resort Hotel            0        342               2015   \n",
       "1         1  Resort Hotel            0        737               2015   \n",
       "2         2  Resort Hotel            0          7               2015   \n",
       "3         3  Resort Hotel            0         13               2015   \n",
       "4         4  Resort Hotel            0         14               2015   \n",
       "\n",
       "  arrival_date_month  arrival_date_week_number  arrival_date_day_of_month  \\\n",
       "0               July                        27                          1   \n",
       "1               July                        27                          1   \n",
       "2               July                        27                          1   \n",
       "3               July                        27                          1   \n",
       "4               July                        27                          1   \n",
       "\n",
       "   stays_in_weekend_nights  stays_in_week_nights  ...  deposit_type  agent  \\\n",
       "0                        0                     0  ...    No Deposit    NaN   \n",
       "1                        0                     0  ...    No Deposit    NaN   \n",
       "2                        0                     1  ...    No Deposit    NaN   \n",
       "3                        0                     1  ...    No Deposit  304.0   \n",
       "4                        0                     2  ...    No Deposit  240.0   \n",
       "\n",
       "   company days_in_waiting_list customer_type   adr  \\\n",
       "0      NaN                    0     Transient   0.0   \n",
       "1      NaN                    0     Transient   0.0   \n",
       "2      NaN                    0     Transient  75.0   \n",
       "3      NaN                    0     Transient  75.0   \n",
       "4      NaN                    0     Transient  98.0   \n",
       "\n",
       "  required_car_parking_spaces  total_of_special_requests  reservation_status  \\\n",
       "0                           0                          0           Check-Out   \n",
       "1                           0                          0           Check-Out   \n",
       "2                           0                          0           Check-Out   \n",
       "3                           0                          0           Check-Out   \n",
       "4                           0                          1           Check-Out   \n",
       "\n",
       "   reservation_status_date  \n",
       "0               2015-07-01  \n",
       "1               2015-07-01  \n",
       "2               2015-07-02  \n",
       "3               2015-07-02  \n",
       "4               2015-07-03  \n",
       "\n",
       "[5 rows x 33 columns]"
      ]
     },
     "execution_count": 20,
     "metadata": {},
     "output_type": "execute_result"
    }
   ],
   "source": [
    "\n",
    "# creating an id for every transaction/guest \n",
    "df_with_id =df.reset_index().rename(columns={\"index\":\"guest_id\"})\n",
    "df_with_id.head()"
   ]
  },
  {
   "cell_type": "code",
   "execution_count": 21,
   "id": "2d27476b-a977-463e-bb22-23828717def9",
   "metadata": {
    "tags": []
   },
   "outputs": [
    {
     "data": {
      "text/plain": [
       "array([2015, 2016, 2017])"
      ]
     },
     "execution_count": 21,
     "metadata": {},
     "output_type": "execute_result"
    }
   ],
   "source": [
    "df_with_id[\"arrival_date_year\"].unique()"
   ]
  },
  {
   "cell_type": "code",
   "execution_count": 95,
   "id": "d8810eab-64d0-451a-896e-e87a3162271a",
   "metadata": {},
   "outputs": [
    {
     "data": {
      "text/html": [
       "<div>\n",
       "<style scoped>\n",
       "    .dataframe tbody tr th:only-of-type {\n",
       "        vertical-align: middle;\n",
       "    }\n",
       "\n",
       "    .dataframe tbody tr th {\n",
       "        vertical-align: top;\n",
       "    }\n",
       "\n",
       "    .dataframe thead th {\n",
       "        text-align: right;\n",
       "    }\n",
       "</style>\n",
       "<table border=\"1\" class=\"dataframe\">\n",
       "  <thead>\n",
       "    <tr style=\"text-align: right;\">\n",
       "      <th></th>\n",
       "      <th>hotel</th>\n",
       "      <th>arrival_month</th>\n",
       "      <th>arrivals</th>\n",
       "    </tr>\n",
       "  </thead>\n",
       "  <tbody>\n",
       "    <tr>\n",
       "      <th>0</th>\n",
       "      <td>City Hotel</td>\n",
       "      <td>1</td>\n",
       "      <td>1868.000000</td>\n",
       "    </tr>\n",
       "    <tr>\n",
       "      <th>1</th>\n",
       "      <td>City Hotel</td>\n",
       "      <td>2</td>\n",
       "      <td>2482.500000</td>\n",
       "    </tr>\n",
       "    <tr>\n",
       "      <th>2</th>\n",
       "      <td>City Hotel</td>\n",
       "      <td>3</td>\n",
       "      <td>3229.000000</td>\n",
       "    </tr>\n",
       "    <tr>\n",
       "      <th>3</th>\n",
       "      <td>City Hotel</td>\n",
       "      <td>4</td>\n",
       "      <td>3740.000000</td>\n",
       "    </tr>\n",
       "    <tr>\n",
       "      <th>4</th>\n",
       "      <td>City Hotel</td>\n",
       "      <td>5</td>\n",
       "      <td>4116.000000</td>\n",
       "    </tr>\n",
       "    <tr>\n",
       "      <th>5</th>\n",
       "      <td>City Hotel</td>\n",
       "      <td>6</td>\n",
       "      <td>3947.000000</td>\n",
       "    </tr>\n",
       "    <tr>\n",
       "      <th>6</th>\n",
       "      <td>City Hotel</td>\n",
       "      <td>7</td>\n",
       "      <td>2696.000000</td>\n",
       "    </tr>\n",
       "    <tr>\n",
       "      <th>7</th>\n",
       "      <td>City Hotel</td>\n",
       "      <td>8</td>\n",
       "      <td>2994.333333</td>\n",
       "    </tr>\n",
       "    <tr>\n",
       "      <th>8</th>\n",
       "      <td>City Hotel</td>\n",
       "      <td>9</td>\n",
       "      <td>3700.000000</td>\n",
       "    </tr>\n",
       "    <tr>\n",
       "      <th>9</th>\n",
       "      <td>City Hotel</td>\n",
       "      <td>10</td>\n",
       "      <td>3802.500000</td>\n",
       "    </tr>\n",
       "    <tr>\n",
       "      <th>10</th>\n",
       "      <td>City Hotel</td>\n",
       "      <td>11</td>\n",
       "      <td>2178.500000</td>\n",
       "    </tr>\n",
       "    <tr>\n",
       "      <th>11</th>\n",
       "      <td>City Hotel</td>\n",
       "      <td>12</td>\n",
       "      <td>2066.000000</td>\n",
       "    </tr>\n",
       "    <tr>\n",
       "      <th>12</th>\n",
       "      <td>Resort Hotel</td>\n",
       "      <td>1</td>\n",
       "      <td>1096.500000</td>\n",
       "    </tr>\n",
       "    <tr>\n",
       "      <th>13</th>\n",
       "      <td>Resort Hotel</td>\n",
       "      <td>2</td>\n",
       "      <td>1551.500000</td>\n",
       "    </tr>\n",
       "    <tr>\n",
       "      <th>14</th>\n",
       "      <td>Resort Hotel</td>\n",
       "      <td>3</td>\n",
       "      <td>1668.000000</td>\n",
       "    </tr>\n",
       "    <tr>\n",
       "      <th>15</th>\n",
       "      <td>Resort Hotel</td>\n",
       "      <td>4</td>\n",
       "      <td>1804.500000</td>\n",
       "    </tr>\n",
       "    <tr>\n",
       "      <th>16</th>\n",
       "      <td>Resort Hotel</td>\n",
       "      <td>5</td>\n",
       "      <td>1779.500000</td>\n",
       "    </tr>\n",
       "    <tr>\n",
       "      <th>17</th>\n",
       "      <td>Resort Hotel</td>\n",
       "      <td>6</td>\n",
       "      <td>1522.500000</td>\n",
       "    </tr>\n",
       "    <tr>\n",
       "      <th>18</th>\n",
       "      <td>Resort Hotel</td>\n",
       "      <td>7</td>\n",
       "      <td>1524.333333</td>\n",
       "    </tr>\n",
       "    <tr>\n",
       "      <th>19</th>\n",
       "      <td>Resort Hotel</td>\n",
       "      <td>8</td>\n",
       "      <td>1631.333333</td>\n",
       "    </tr>\n",
       "    <tr>\n",
       "      <th>20</th>\n",
       "      <td>Resort Hotel</td>\n",
       "      <td>9</td>\n",
       "      <td>1554.000000</td>\n",
       "    </tr>\n",
       "    <tr>\n",
       "      <th>21</th>\n",
       "      <td>Resort Hotel</td>\n",
       "      <td>10</td>\n",
       "      <td>1777.500000</td>\n",
       "    </tr>\n",
       "    <tr>\n",
       "      <th>22</th>\n",
       "      <td>Resort Hotel</td>\n",
       "      <td>11</td>\n",
       "      <td>1218.500000</td>\n",
       "    </tr>\n",
       "    <tr>\n",
       "      <th>23</th>\n",
       "      <td>Resort Hotel</td>\n",
       "      <td>12</td>\n",
       "      <td>1324.000000</td>\n",
       "    </tr>\n",
       "  </tbody>\n",
       "</table>\n",
       "</div>"
      ],
      "text/plain": [
       "           hotel  arrival_month     arrivals\n",
       "0     City Hotel              1  1868.000000\n",
       "1     City Hotel              2  2482.500000\n",
       "2     City Hotel              3  3229.000000\n",
       "3     City Hotel              4  3740.000000\n",
       "4     City Hotel              5  4116.000000\n",
       "5     City Hotel              6  3947.000000\n",
       "6     City Hotel              7  2696.000000\n",
       "7     City Hotel              8  2994.333333\n",
       "8     City Hotel              9  3700.000000\n",
       "9     City Hotel             10  3802.500000\n",
       "10    City Hotel             11  2178.500000\n",
       "11    City Hotel             12  2066.000000\n",
       "12  Resort Hotel              1  1096.500000\n",
       "13  Resort Hotel              2  1551.500000\n",
       "14  Resort Hotel              3  1668.000000\n",
       "15  Resort Hotel              4  1804.500000\n",
       "16  Resort Hotel              5  1779.500000\n",
       "17  Resort Hotel              6  1522.500000\n",
       "18  Resort Hotel              7  1524.333333\n",
       "19  Resort Hotel              8  1631.333333\n",
       "20  Resort Hotel              9  1554.000000\n",
       "21  Resort Hotel             10  1777.500000\n",
       "22  Resort Hotel             11  1218.500000\n",
       "23  Resort Hotel             12  1324.000000"
      ]
     },
     "execution_count": 95,
     "metadata": {},
     "output_type": "execute_result"
    }
   ],
   "source": [
    "# Grouping check-ins by hotel per date month, calculating a mean of the 3 years. Trying to find a pattern of reservations throughtout the year. \n",
    "\n",
    "df_grouped = df_with_id.groupby(['hotel','arrival_date_year','arrival_date_month']).count()[['guest_id']].rename(columns={\"guest_id\":\"arrivals\"})\n",
    "df_grouped = df_grouped.reset_index()\n",
    "df_grouped['arrival_month']= pd.to_datetime(df_grouped['arrival_date_month'], format=\"%B\").dt.month\n",
    "df_grouped = df_grouped.sort_values(by=['hotel','arrival_date_year', 'arrival_month'])\n",
    "df_grouped = df_grouped.groupby(['hotel','arrival_month']).agg({\"arrivals\":'mean'}).reset_index()\n",
    "df_grouped"
   ]
  },
  {
   "cell_type": "code",
   "execution_count": 26,
   "id": "27b33dc7-4e3a-4acc-be80-14129425ee28",
   "metadata": {
    "tags": []
   },
   "outputs": [
    {
     "data": {
      "text/plain": [
       "hotel                             False\n",
       "is_canceled                       False\n",
       "lead_time                         False\n",
       "arrival_date_year                 False\n",
       "arrival_date_month                False\n",
       "arrival_date_week_number          False\n",
       "arrival_date_day_of_month         False\n",
       "stays_in_weekend_nights           False\n",
       "stays_in_week_nights              False\n",
       "adults                            False\n",
       "children                           True\n",
       "babies                            False\n",
       "meal                              False\n",
       "country                            True\n",
       "market_segment                    False\n",
       "distribution_channel              False\n",
       "is_repeated_guest                 False\n",
       "previous_cancellations            False\n",
       "previous_bookings_not_canceled    False\n",
       "reserved_room_type                False\n",
       "assigned_room_type                False\n",
       "booking_changes                   False\n",
       "deposit_type                      False\n",
       "agent                              True\n",
       "company                            True\n",
       "days_in_waiting_list              False\n",
       "customer_type                     False\n",
       "adr                               False\n",
       "required_car_parking_spaces       False\n",
       "total_of_special_requests         False\n",
       "reservation_status                False\n",
       "reservation_status_date           False\n",
       "dtype: bool"
      ]
     },
     "execution_count": 26,
     "metadata": {},
     "output_type": "execute_result"
    }
   ],
   "source": [
    "# looking for missing values\n",
    "df.isnull().any()"
   ]
  },
  {
   "cell_type": "code",
   "execution_count": 27,
   "id": "98bbdb9f-106a-4924-87e8-b40134dea31c",
   "metadata": {
    "tags": []
   },
   "outputs": [],
   "source": [
    "#creating a copy of dataset \n",
    "test2 = df.copy()"
   ]
  },
  {
   "cell_type": "code",
   "execution_count": 28,
   "id": "afae718d-f268-4fd9-9106-6f10568514e4",
   "metadata": {
    "tags": []
   },
   "outputs": [
    {
     "name": "stderr",
     "output_type": "stream",
     "text": [
      "/var/folders/d8/knczg5hs597_plsphx_dp9kh0000gn/T/ipykernel_4933/2366600341.py:6: FutureWarning: Series.fillna with 'method' is deprecated and will raise in a future version. Use obj.ffill() or obj.bfill() instead.\n",
      "  df['country'] = df['country'].fillna(method='bfill')\n"
     ]
    }
   ],
   "source": [
    "#replace the null values of \"children\" for the value mode \n",
    "df['children'] = df['children'].fillna(df['children'].mode()[0])\n",
    "\n",
    "#replace the null values of \"country\" for backwardfill \n",
    "\n",
    "df['country'] = df['country'].fillna(method='bfill')\n",
    "\n",
    "#replace the null values of \"agent\" for the value of mode\n",
    "df['agent'] = df['agent'].fillna(df['agent'].mode()[0])\n"
   ]
  },
  {
   "cell_type": "code",
   "execution_count": 29,
   "id": "70acd3a3-d2a6-463e-a27b-ea481a848447",
   "metadata": {
    "tags": []
   },
   "outputs": [],
   "source": [
    "#Dropping column \"company\", 94% of the values are NaN. For this reason the best to do is just drop the column. \n",
    "\n",
    "df.drop('company', axis=1, inplace=True)\n"
   ]
  },
  {
   "cell_type": "code",
   "execution_count": 30,
   "id": "7d3c5038-21e4-4170-83f4-44175df9c2e4",
   "metadata": {
    "tags": []
   },
   "outputs": [
    {
     "name": "stdout",
     "output_type": "stream",
     "text": [
      "All dates in column 'reservation_status_date' follow the format %Y-%m-%d.\n"
     ]
    }
   ],
   "source": [
    "# Define the expected date format\n",
    "date_format = \"%Y-%m-%d\"\n",
    "\n",
    "# Check if dates in a specific column follow the same format\n",
    "column_name = 'reservation_status_date'\n",
    "\n",
    "# Parse dates using the specified format and catch any parsing errors\n",
    "try:\n",
    "    pd.to_datetime(test2[\"reservation_status_date\"], format=date_format, errors='raise')\n",
    "    print(f\"All dates in column '{column_name}' follow the format {date_format}.\")\n",
    "except ValueError as e:\n",
    "    print(f\"Not all dates in column '{column_name}' follow the format {date_format}.\")\n",
    "    print(f\"Error message: {e}\")"
   ]
  },
  {
   "cell_type": "code",
   "execution_count": 31,
   "id": "e7e03fe4-4ffb-46f9-8ac7-9cdc80239539",
   "metadata": {
    "tags": []
   },
   "outputs": [
    {
     "data": {
      "text/plain": [
       "hotel                              object\n",
       "is_canceled                         int64\n",
       "lead_time                           int64\n",
       "arrival_date_year                   int64\n",
       "arrival_date_month                 object\n",
       "arrival_date_week_number            int64\n",
       "arrival_date_day_of_month           int64\n",
       "stays_in_weekend_nights             int64\n",
       "stays_in_week_nights                int64\n",
       "adults                              int64\n",
       "children                          float64\n",
       "babies                              int64\n",
       "meal                               object\n",
       "country                            object\n",
       "market_segment                     object\n",
       "distribution_channel               object\n",
       "is_repeated_guest                   int64\n",
       "previous_cancellations              int64\n",
       "previous_bookings_not_canceled      int64\n",
       "reserved_room_type                 object\n",
       "assigned_room_type                 object\n",
       "booking_changes                     int64\n",
       "deposit_type                       object\n",
       "agent                             float64\n",
       "days_in_waiting_list                int64\n",
       "customer_type                      object\n",
       "adr                               float64\n",
       "required_car_parking_spaces         int64\n",
       "total_of_special_requests           int64\n",
       "reservation_status                 object\n",
       "reservation_status_date            object\n",
       "dtype: object"
      ]
     },
     "execution_count": 31,
     "metadata": {},
     "output_type": "execute_result"
    }
   ],
   "source": [
    "df.dtypes"
   ]
  },
  {
   "cell_type": "code",
   "execution_count": 32,
   "id": "6c2b41e6-7aef-4596-80a5-fdefa4d7fbb2",
   "metadata": {
    "tags": []
   },
   "outputs": [],
   "source": [
    "# filtering data by name of the hotels\n",
    "\n",
    "filtered_data = test2[(test2['hotel'] == 'Resort Hotel') | (test2['hotel'] == 'City Hotel')]\n",
    "\n",
    "# Step 2: Group the filtered DataFrame by \"policy_type\" and \"gender\"\n",
    "grouped_data = filtered_data.groupby(['hotel', 'is_canceled', \"arrival_date_year\"]).size()\n"
   ]
  },
  {
   "cell_type": "code",
   "execution_count": 33,
   "id": "3e29b026-f961-4acb-8518-e62ebcb39f52",
   "metadata": {
    "tags": []
   },
   "outputs": [
    {
     "data": {
      "text/plain": [
       "hotel         is_canceled  arrival_date_year\n",
       "City Hotel    0            2015                  7678\n",
       "                           2016                 22733\n",
       "                           2017                 15817\n",
       "              1            2015                  6004\n",
       "                           2016                 15407\n",
       "                           2017                 11691\n",
       "Resort Hotel  0            2015                  6176\n",
       "                           2016                 13637\n",
       "                           2017                  9125\n",
       "              1            2015                  2138\n",
       "                           2016                  4930\n",
       "                           2017                  4054\n",
       "dtype: int64"
      ]
     },
     "metadata": {},
     "output_type": "display_data"
    }
   ],
   "source": [
    "#display the grouped_data\n",
    "display(grouped_data)"
   ]
  },
  {
   "cell_type": "code",
   "execution_count": 34,
   "id": "4e8d25fd-b4ce-48bf-9c1f-4a072dfe51e0",
   "metadata": {
    "tags": []
   },
   "outputs": [
    {
     "data": {
      "text/plain": [
       "0         2015\n",
       "1         2015\n",
       "2         2015\n",
       "3         2015\n",
       "4         2015\n",
       "          ... \n",
       "119385    2017\n",
       "119386    2017\n",
       "119387    2017\n",
       "119388    2017\n",
       "119389    2017\n",
       "Name: arrival_date_year, Length: 119390, dtype: int64"
      ]
     },
     "execution_count": 34,
     "metadata": {},
     "output_type": "execute_result"
    }
   ],
   "source": [
    "df[\"arrival_date_year\"]"
   ]
  },
  {
   "cell_type": "markdown",
   "id": "b88caf8b-0d39-4a9a-8006-dc029e684b94",
   "metadata": {},
   "source": [
    "### Seasonal Patterns"
   ]
  },
  {
   "cell_type": "code",
   "execution_count": 35,
   "id": "2d7b1fa1-888f-42ea-bcc1-5657a42e00cf",
   "metadata": {
    "tags": []
   },
   "outputs": [
    {
     "name": "stderr",
     "output_type": "stream",
     "text": [
      "/opt/anaconda3/lib/python3.11/site-packages/seaborn/_oldcore.py:1119: FutureWarning: use_inf_as_na option is deprecated and will be removed in a future version. Convert inf values to NaN before operating instead.\n",
      "  with pd.option_context('mode.use_inf_as_na', True):\n",
      "/opt/anaconda3/lib/python3.11/site-packages/seaborn/_oldcore.py:1119: FutureWarning: use_inf_as_na option is deprecated and will be removed in a future version. Convert inf values to NaN before operating instead.\n",
      "  with pd.option_context('mode.use_inf_as_na', True):\n",
      "/opt/anaconda3/lib/python3.11/site-packages/seaborn/_oldcore.py:1075: FutureWarning: When grouping with a length-1 list-like, you will need to pass a length-1 tuple to get_group in a future version of pandas. Pass `(name,)` instead of `name` to silence this warning.\n",
      "  data_subset = grouped_data.get_group(pd_key)\n",
      "/opt/anaconda3/lib/python3.11/site-packages/seaborn/_oldcore.py:1075: FutureWarning: When grouping with a length-1 list-like, you will need to pass a length-1 tuple to get_group in a future version of pandas. Pass `(name,)` instead of `name` to silence this warning.\n",
      "  data_subset = grouped_data.get_group(pd_key)\n"
     ]
    },
    {
     "data": {
      "image/png": "[encoded data removed]",
      "text/plain": [
       "<Figure size 640x480 with 1 Axes>"
      ]
     },
     "metadata": {},
     "output_type": "display_data"
    }
   ],
   "source": [
    "# Plotting a graph of the average check-ins per month for the two hotels\n",
    "import numpy as np\n",
    "\n",
    "ax=sns.lineplot(data=df_grouped, x='arrival_month', y='arrivals', hue='hotel')\n",
    "ax.set_xticks(np.arange(1,13))\n",
    "plt.show()\n"
   ]
  },
  {
   "cell_type": "code",
   "execution_count": 36,
   "id": "b7f03e76-c492-4e8e-bb1a-eb9d86c6aec9",
   "metadata": {
    "tags": []
   },
   "outputs": [
    {
     "data": {
      "image/png": "[encoded data removed]",
      "text/plain": [
       "<Figure size 1000x600 with 1 Axes>"
      ]
     },
     "metadata": {},
     "output_type": "display_data"
    }
   ],
   "source": [
    "# Same graph above, used in the presentation\n",
    "\n",
    "# Assuming df_grouped is your DataFrame\n",
    "df_grouped = df_with_id.groupby(['hotel', 'arrival_date_year', 'arrival_date_month']).count()[['guest_id']].rename(columns={\"guest_id\": \"arrivals\"})\n",
    "df_grouped = df_grouped.reset_index()\n",
    "df_grouped['arrival_month'] = pd.to_datetime(df_grouped['arrival_date_month'], format=\"%B\").dt.month\n",
    "df_grouped = df_grouped.sort_values(by=['hotel', 'arrival_date_year', 'arrival_month'])\n",
    "df_grouped = df_grouped.groupby(['hotel', 'arrival_month']).agg({\"arrivals\": 'mean'}).reset_index()\n",
    "\n",
    "# Convert month numbers to month names\n",
    "month_names = ['January', 'February', 'March', 'April', 'May', 'June', 'July', 'August', 'September', 'October', 'November', 'December']\n",
    "df_grouped['arrival_month'] = df_grouped['arrival_month'].map(lambda x: month_names[x - 1])\n",
    "\n",
    "# Plot the data with lines\n",
    "plt.figure(figsize=(10, 6))\n",
    "for hotel, data in df_grouped.groupby('hotel'):\n",
    "    plt.plot(data['arrival_month'], data['arrivals'], label=hotel)\n",
    "\n",
    "# Set labels and title\n",
    "plt.xlabel('Month', color='white')\n",
    "plt.ylabel('Average Number of Arrivals', color='white')\n",
    "#plt.title('Average Number of Arrivals by Month and Hotel', color='white')\n",
    "\n",
    "# Customize legend position and color\n",
    "legend = plt.legend(title='Hotel', loc='upper left', bbox_to_anchor=(1.05, 1))\n",
    "plt.setp(legend.get_texts(), color='white')  # Set legend text color to white\n",
    "plt.setp(legend.get_title(), color='white')  # Set legend title color to white\n",
    "\n",
    "# Rotate x-axis tick labels diagonally\n",
    "plt.xticks(rotation=45, color='white')\n",
    "\n",
    "# Set y-axis tick labels color to white\n",
    "plt.yticks(color='white')\n",
    "\n",
    "# Remove grid and background\n",
    "plt.grid(False)\n",
    "plt.gca().set_facecolor('None')\n",
    "\n",
    "# Remove top and right spines\n",
    "plt.gca().spines['top'].set_visible(False)\n",
    "plt.gca().spines['right'].set_visible(False)\n",
    "\n",
    "# Save the plot\n",
    "save_path = '../images/average_arrivals_by_month_and_hotel.png'\n",
    "plt.savefig(save_path, transparent=True, bbox_inches='tight')\n",
    "\n",
    "# Show the plot\n",
    "plt.tight_layout()\n",
    "plt.show()\n"
   ]
  },
  {
   "cell_type": "markdown",
   "id": "7b766b58-d9b9-41c4-b2af-7e6d2815ac5b",
   "metadata": {},
   "source": [
    "### Booking channel performance "
   ]
  },
  {
   "cell_type": "code",
   "execution_count": 38,
   "id": "9e4f2e5e-31ca-45fa-b08c-cad4efef1382",
   "metadata": {
    "tags": []
   },
   "outputs": [
    {
     "data": {
      "text/plain": [
       "array(['Direct', 'Corporate', 'Online TA', 'Offline TA/TO',\n",
       "       'Complementary', 'Groups', 'Undefined', 'Aviation'], dtype=object)"
      ]
     },
     "execution_count": 38,
     "metadata": {},
     "output_type": "execute_result"
    }
   ],
   "source": [
    "#checking unique values of market_segment\n",
    "test2[\"market_segment\"].unique()"
   ]
  },
  {
   "cell_type": "code",
   "execution_count": 39,
   "id": "11b287db-c7a2-4cf3-b2f5-3d27e8c9117d",
   "metadata": {
    "tags": []
   },
   "outputs": [
    {
     "data": {
      "text/plain": [
       "array(['Direct', 'Corporate', 'TA/TO', 'Undefined', 'GDS'], dtype=object)"
      ]
     },
     "execution_count": 39,
     "metadata": {},
     "output_type": "execute_result"
    }
   ],
   "source": [
    "#checking unique values of distribution_channel\n",
    "\n",
    "test2[\"distribution_channel\"].unique()"
   ]
  },
  {
   "cell_type": "code",
   "execution_count": 40,
   "id": "e0f03ca1-9cf1-4667-87d5-3a7832eeacf9",
   "metadata": {},
   "outputs": [
    {
     "data": {
      "image/png": "[encoded data removed]",
      "text/plain": [
       "<Figure size 1000x600 with 1 Axes>"
      ]
     },
     "metadata": {},
     "output_type": "display_data"
    }
   ],
   "source": [
    "#plotting a graph showing a percentage of distribution_channel\n",
    "\n",
    "# Calculate value counts for the distribution_channel column and normalize to get percentages\n",
    "distribution_counts = df['distribution_channel'].value_counts(normalize=True) * 100\n",
    "\n",
    "# Set figure size\n",
    "plt.figure(figsize=(10, 6))\n",
    "\n",
    "# Plot the distribution with dark blue color\n",
    "ax = distribution_counts.plot(kind='bar', grid=False, color='darkblue')\n",
    "\n",
    "# Add labels and title\n",
    "plt.xlabel('Distribution Channel')\n",
    "plt.ylabel('Percentage (%)')\n",
    "\n",
    "# Rotate the x-axis labels diagonally\n",
    "ax.set_xticklabels(ax.get_xticklabels(), rotation=45, ha='right')\n",
    "\n",
    "# Save the plot\n",
    "save_path_5 = '../images/distribution_of_distribution_channels.png'\n",
    "plt.savefig(save_path_5)\n",
    "\n",
    "# Show plot\n",
    "plt.show()"
   ]
  },
  {
   "cell_type": "code",
   "execution_count": 41,
   "id": "1fd3e070-4619-4b58-844f-258b608888bd",
   "metadata": {},
   "outputs": [
    {
     "data": {
      "image/png": "[encoded data removed]",
      "text/plain": [
       "<Figure size 1000x600 with 1 Axes>"
      ]
     },
     "metadata": {},
     "output_type": "display_data"
    }
   ],
   "source": [
    "# Same graph above, used in the presentation\n",
    "\n",
    "# Calculate value counts for the distribution_channel column and normalize to get percentages\n",
    "distribution_counts = df['distribution_channel'].value_counts(normalize=True) * 100\n",
    "\n",
    "# Set figure size\n",
    "plt.figure(figsize=(10, 6))\n",
    "\n",
    "# Plot the distribution with dark red or maroon color\n",
    "ax = distribution_counts.plot(kind='bar', grid=False, color='steelblue')\n",
    "\n",
    "# Add labels and title with white text\n",
    "plt.xlabel('Booking channel', color='white')  # Set x-axis label color to white\n",
    "plt.ylabel('Percentage (%)', color='white')  # Set y-axis label color to white\n",
    "plt.xticks(rotation=45, color='white')\n",
    "plt.yticks(color='white')\n",
    "\n",
    "# Set the background color of the figure to None (fully transparent)\n",
    "ax.set_facecolor('None')\n",
    "\n",
    "# Remove the frame\n",
    "ax.spines['top'].set_visible(False)\n",
    "ax.spines['right'].set_visible(False)\n",
    "\n",
    "# Save the plot\n",
    "save_path_5 = '../images/distribution_of_distribution_channels.png'\n",
    "plt.savefig(save_path_5, transparent=True, bbox_inches='tight')\n"
   ]
  },
  {
   "cell_type": "markdown",
   "id": "d40b0a90-5ae5-4472-94ec-9265003c4653",
   "metadata": {},
   "source": [
    "### Cancellations analysis"
   ]
  },
  {
   "cell_type": "code",
   "execution_count": 43,
   "id": "7688a6f8-16b7-48d1-b33e-96e2a56e2770",
   "metadata": {},
   "outputs": [],
   "source": [
    "specific_rows = test2[(test2[\"distribution_channel\"] == \"GDS\")]\n"
   ]
  },
  {
   "cell_type": "code",
   "execution_count": 44,
   "id": "0046f2d7-b0b3-44b0-bf3d-7d4b9626b4c6",
   "metadata": {},
   "outputs": [
    {
     "data": {
      "image/png": "[encoded data removed]",
      "text/plain": [
       "<Figure size 1200x800 with 1 Axes>"
      ]
     },
     "metadata": {},
     "output_type": "display_data"
    }
   ],
   "source": [
    "# plotting a percentage of cancelation and non cancelation by market_segment \n",
    "\n",
    "# Remove \"Undefined\" market segment\n",
    "test2 = test2[test2['market_segment'] != 'Undefined']\n",
    "\n",
    "# Define the reversed order of market segments\n",
    "market_segment_order = [\"Aviation\", \"Complementary\", \"Corporate\", \"Direct\", \"Groups\", \"Offline TA/TO\", \"Online TA\"]\n",
    "\n",
    "# Group by market_segment and is_canceled and count the occurrences\n",
    "aggregated_data = test2.groupby(['market_segment', 'is_canceled']).size().unstack(fill_value=0)\n",
    "\n",
    "# Reindex the aggregated data to the desired order\n",
    "aggregated_data = aggregated_data.reindex(market_segment_order)\n",
    "\n",
    "# Calculate percentage of canceled and not canceled bookings\n",
    "aggregated_data['Total'] = aggregated_data.sum(axis=1)\n",
    "aggregated_data['Canceled %'] = aggregated_data[1] / aggregated_data['Total'] * 100\n",
    "aggregated_data['Not Canceled %'] = aggregated_data[0] / aggregated_data['Total'] * 100\n",
    "\n",
    "# Plot the data\n",
    "ax = aggregated_data[['Canceled %', 'Not Canceled %']].plot(kind='barh', stacked=True, figsize=(12, 8))\n",
    "\n",
    "# Set the plot title and labels\n",
    "#plt.title('Cancellation Percentage by Market Segment')\n",
    "plt.ylabel('Market Segment')\n",
    "plt.xlabel('Percentage of Bookings (%)')\n",
    "plt.xlim(0, 100)  # Set x-axis limit to 100 for percentage\n",
    "\n",
    "# Remove grid\n",
    "plt.grid(False)\n",
    "\n",
    "# Place percentage values inside each bar\n",
    "for i, (p_cancelled, p_not_cancelled) in enumerate(zip(aggregated_data['Canceled %'], aggregated_data['Not Canceled %'])):\n",
    "    ax.text(p_cancelled / 2, i, f'{p_cancelled:.1f}%', color='blue', ha='center', va='center')\n",
    "    ax.text(100 - p_not_cancelled / 2, i, f'{p_not_cancelled:.1f}%', color='orange', ha='center', va='center')\n",
    "\n",
    "    # Set color of percentage numbers to black\n",
    "    ax.text(p_cancelled / 2, i, f'{p_cancelled:.1f}%', color='black', ha='center', va='center')\n",
    "    ax.text(100 - p_not_cancelled / 2, i, f'{p_not_cancelled:.1f}%', color='black', ha='center', va='center')\n",
    "\n",
    "# Customize legend position\n",
    "plt.legend(title='Cancellation Status', loc='upper left', bbox_to_anchor=(1, 0.1))\n",
    "\n",
    "# Show the plot\n",
    "plt.tight_layout()\n",
    "plt.show()\n"
   ]
  },
  {
   "cell_type": "code",
   "execution_count": 45,
   "id": "e356e0d6-5c7e-4fed-860e-81a80854b9eb",
   "metadata": {},
   "outputs": [
    {
     "data": {
      "image/png": "[encoded data removed]",
      "text/plain": [
       "<Figure size 1200x800 with 1 Axes>"
      ]
     },
     "metadata": {},
     "output_type": "display_data"
    }
   ],
   "source": [
    "# Same graph above, used in the presentation\n",
    "\n",
    "# Plot the data\n",
    "plt.figure(figsize=(12, 8))\n",
    "plt.barh(aggregated_data.index, aggregated_data['Not Canceled %'], color='darkgreen', label='Not Cancelled %')\n",
    "plt.barh(aggregated_data.index, aggregated_data['Canceled %'], left=aggregated_data['Not Canceled %'], color='darkred', label='Cancelled %')\n",
    "\n",
    "# Set the plot title and labels\n",
    "plt.ylabel('Market Segment', color='white')  # Set y-axis label color to white\n",
    "plt.xlabel('Percentage of Bookings (%)', color='white')  # Set x-axis label color to white\n",
    "plt.xticks(color='white')\n",
    "plt.yticks(color='white')\n",
    "plt.xlim(0, 100)  # Set x-axis limit to 100 for percentage\n",
    "\n",
    "# Place percentage values inside each bar\n",
    "for i, (p_not_cancelled, p_cancelled) in enumerate(zip(aggregated_data['Not Canceled %'], aggregated_data['Canceled %'])):\n",
    "    plt.text(p_not_cancelled / 2, i, f'{p_not_cancelled:.1f}%', color='white', ha='center', va='center')\n",
    "    plt.text(p_not_cancelled + p_cancelled / 2, i, f'{p_cancelled:.1f}%', color='white', ha='center', va='center')\n",
    "\n",
    "# Customize legend position\n",
    "plt.legend(title='Cancellation Status', loc='upper right', bbox_to_anchor=(1.3, 1))\n",
    "\n",
    "# Remove spines and grid\n",
    "plt.gca().spines['top'].set_visible(False)\n",
    "plt.gca().spines['right'].set_visible(False)\n",
    "plt.gca().spines['left'].set_visible(False)\n",
    "plt.gca().spines['bottom'].set_visible(False)\n",
    "plt.grid(False)\n",
    "\n",
    "# Remove background color\n",
    "plt.gca().set_facecolor('None')\n",
    "\n",
    "# Save the plot\n",
    "save_path_4 = '../images/cancellation_percentage_by_market_segment.png'\n",
    "plt.savefig(save_path_4, transparent=True, bbox_inches='tight')\n",
    "\n",
    "# Show the plot\n",
    "plt.tight_layout()\n",
    "plt.show()\n"
   ]
  },
  {
   "cell_type": "code",
   "execution_count": 46,
   "id": "2db124c5-130f-4427-a2f9-f7951213a42d",
   "metadata": {},
   "outputs": [],
   "source": [
    "#function to categorize lead time \n",
    "\n",
    "def categorize_lead_time(lead_time):\n",
    "    if lead_time <= 93:\n",
    "        return \"< 3 months\"\n",
    "    elif 93 < lead_time <= 186:\n",
    "        return \"3 - 6 months\"\n",
    "    elif 186 < lead_time <= 279:\n",
    "        return \"6 - 9 months\"\n",
    "    elif 279 < lead_time <= 365:\n",
    "        return \"9 - 12 months\"\n",
    "    elif 365 < lead_time <= 458:\n",
    "        return \"12 - 15 months\"\n",
    "    elif 458 < lead_time <= 551:\n",
    "        return \"15 - 18 months\"\n",
    "    else:\n",
    "        return \"> 18 months\""
   ]
  },
  {
   "cell_type": "code",
   "execution_count": 47,
   "id": "53fbe6b4-e96e-40cc-8655-7af900c90e60",
   "metadata": {},
   "outputs": [],
   "source": [
    "#creating a new column \"lead_time_sorted\"\n",
    "test2[\"lead_time_sorted\"] = test2[\"lead_time\"].apply(categorize_lead_time)"
   ]
  },
  {
   "cell_type": "code",
   "execution_count": 48,
   "id": "11be7d78-56fe-4086-ab4f-4d2afab7c2cb",
   "metadata": {},
   "outputs": [
    {
     "data": {
      "image/png": "[encoded data removed]",
      "text/plain": [
       "<Figure size 1000x600 with 1 Axes>"
      ]
     },
     "metadata": {},
     "output_type": "display_data"
    }
   ],
   "source": [
    "# Assuming test2 is your DataFrame and 'is_canceled' is the column indicating canceled bookings in percentage\n",
    "\n",
    "# Calculate the total number of rows in the DataFrame\n",
    "total_rows = len(test2)\n",
    "\n",
    "# Group the DataFrame by lead_time_sorted and calculate the count of canceled bookings for each category\n",
    "cancelled_counts = test2[test2['is_canceled'] == 1].groupby('lead_time_sorted').size()\n",
    "\n",
    "# Calculate the percentage of canceled bookings relative to the total number of rows for each lead time category\n",
    "cancelled_percentage = (cancelled_counts / total_rows) * 100\n",
    "\n",
    "# Create a DataFrame with the calculated percentages\n",
    "cancelled_percentage_df = cancelled_percentage.reset_index()\n",
    "cancelled_percentage_df.columns = ['Lead Time Category', 'Percentage of Canceled Bookings']\n",
    "\n",
    "# Define the order of lead time categories\n",
    "category_order = ['< 3 months', '3 - 6 months', '6 - 9 months', '9 - 12 months', '12 - 15 months', '15 - 18 months', '> 18 months']\n",
    "\n",
    "# Sort the DataFrame by the calculated percentages in ascending order of category_order\n",
    "cancelled_percentage_sorted = cancelled_percentage_df.sort_values(by='Lead Time Category', key=lambda x: pd.Categorical(x, categories=category_order, ordered=True))\n",
    "\n",
    "# Create the bar plot\n",
    "plt.figure(figsize=(10, 6))\n",
    "plt.bar(cancelled_percentage_sorted['Lead Time Category'], cancelled_percentage_sorted['Percentage of Canceled Bookings'], color='darkblue')\n",
    "#plt.title('Percentage of Canceled Bookings by Lead Time Category')\n",
    "plt.xlabel('Lead Time Category')\n",
    "plt.ylabel('Percentage of Canceled Bookings (%)')\n",
    "plt.xticks(rotation=45)\n",
    "plt.grid(False)  # Remove grid lines\n",
    "plt.tight_layout()\n",
    "save_path_3 = '../images/percenta_of_canceled_bookings.png'\n",
    "plt.savefig(save_path_3)\n",
    "plt.show()\n"
   ]
  },
  {
   "cell_type": "code",
   "execution_count": 49,
   "id": "2714f675-f1b6-49b3-8290-4cad3b075bdd",
   "metadata": {},
   "outputs": [
    {
     "data": {
      "image/png": "[encoded data removed]",
      "text/plain": [
       "<Figure size 1000x600 with 1 Axes>"
      ]
     },
     "metadata": {},
     "output_type": "display_data"
    }
   ],
   "source": [
    "# same graph above used in the presentation \n",
    "\n",
    "# Assuming test2 is your DataFrame and 'is_canceled' is the column indicating canceled bookings\n",
    "\n",
    "# Calculate the total number of rows in the DataFrame\n",
    "total_rows = len(test2)\n",
    "\n",
    "# Group the DataFrame by lead_time_sorted and calculate the count of canceled bookings for each category\n",
    "cancelled_counts = test2[test2['is_canceled'] == 1].groupby('lead_time_sorted').size()\n",
    "\n",
    "# Calculate the percentage of canceled bookings relative to the total number of rows for each lead time category\n",
    "cancelled_percentage = (cancelled_counts / total_rows) * 100\n",
    "\n",
    "# Create a DataFrame with the calculated percentages\n",
    "cancelled_percentage_df = cancelled_percentage.reset_index()\n",
    "cancelled_percentage_df.columns = ['Lead Time Category', 'Percentage of Canceled Bookings']\n",
    "\n",
    "# Define the order of lead time categories\n",
    "category_order = ['< 3 months', '3 - 6 months', '6 - 9 months', '9 - 12 months', '12 - 15 months', '15 - 18 months', '> 18 months']\n",
    "\n",
    "# Sort the DataFrame by the calculated percentages in ascending order of category_order\n",
    "cancelled_percentage_sorted = cancelled_percentage_df.sort_values(by='Lead Time Category', key=lambda x: pd.Categorical(x, categories=category_order, ordered=True))\n",
    "\n",
    "# Create the bar plot\n",
    "plt.figure(figsize=(10, 6))\n",
    "ax = sns.barplot(x='Lead Time Category', y='Percentage of Canceled Bookings', data=cancelled_percentage_sorted, color='darkred')\n",
    "\n",
    "# Add labels and title\n",
    "plt.xlabel('Lead Time Category', color='white')\n",
    "plt.ylabel('Percentage of Cancelled Bookings (%)', color='white')\n",
    "plt.xticks(rotation=45, color='white')\n",
    "plt.yticks(color='white')\n",
    "plt.grid(False)  # Remove grid lines\n",
    "plt.tight_layout()\n",
    "\n",
    "# Set the background color of the figure to be transparent\n",
    "ax.set_facecolor('none')\n",
    "\n",
    "# Remove the frame\n",
    "ax.spines['top'].set_visible(False)\n",
    "ax.spines['right'].set_visible(False)\n",
    "\n",
    "# Save the plot with transparent background\n",
    "save_path_3 = '../images/percentage_of_canceled_bookings.png'\n",
    "plt.savefig(save_path_3, transparent=True)\n",
    "\n",
    "plt.show()\n",
    "\n"
   ]
  },
  {
   "cell_type": "code",
   "execution_count": 50,
   "id": "98b49997-3fbb-4bfa-88a5-fc43d983ebb2",
   "metadata": {},
   "outputs": [
    {
     "name": "stdout",
     "output_type": "stream",
     "text": [
      "Overall percentage of canceled bookings: 37.04057359198579\n"
     ]
    }
   ],
   "source": [
    "# Calculate the total number of rows in the DataFrame\n",
    "total_rows = len(test2)\n",
    "\n",
    "# Count the number of canceled bookings\n",
    "cancelled_bookings = test2['is_canceled'].sum()\n",
    "\n",
    "# Calculate the percentage of canceled bookings\n",
    "cancelled_percentage = (cancelled_bookings / total_rows) * 100\n",
    "\n",
    "print(\"Overall percentage of canceled bookings:\", cancelled_percentage)"
   ]
  },
  {
   "cell_type": "markdown",
   "id": "26283cd5-f640-47f3-99a2-258d6b78cef4",
   "metadata": {},
   "source": [
    "### Geographical Inisights"
   ]
  },
  {
   "cell_type": "code",
   "execution_count": 52,
   "id": "290bc090-4821-46e6-9a9e-2b9832bf7a32",
   "metadata": {},
   "outputs": [],
   "source": [
    "#total number of countries \n",
    "num_unique_countries = len(test2[\"country\"].unique())\n"
   ]
  },
  {
   "cell_type": "code",
   "execution_count": 53,
   "id": "bfec58cf-e68a-4fd2-bb17-c3eb6d2eabb5",
   "metadata": {},
   "outputs": [
    {
     "data": {
      "text/plain": [
       "<function matplotlib.pyplot.show(close=None, block=None)>"
      ]
     },
     "execution_count": 53,
     "metadata": {},
     "output_type": "execute_result"
    },
    {
     "data": {
      "image/png": "[encoded data removed]",
      "text/plain": [
       "<Figure size 800x600 with 1 Axes>"
      ]
     },
     "metadata": {},
     "output_type": "display_data"
    }
   ],
   "source": [
    "# Assuming test2 is your DataFrame and 'country' is the column with country codes\n",
    "\n",
    "# Get the counts of each country\n",
    "country_counts = df['country'].value_counts()\n",
    "\n",
    "# Select the top 5 countries\n",
    "top_five_countries = country_counts.head(5)\n",
    "\n",
    "# Create a DataFrame for the top 5 countries\n",
    "top_five_countries_df = top_five_countries.reset_index()\n",
    "top_five_countries_df.columns = ['Country', 'Count']\n",
    "\n",
    "# Calculate the percentage for each of the top 5 countries based on the entire DataFrame\n",
    "top_five_countries_percentage = (top_five_countries / len(test2)) * 100\n",
    "\n",
    "# Create a bar plot\n",
    "plt.figure(figsize=(8, 6))\n",
    "ax = sns.barplot(x='Count', y='Country', data=top_five_countries_df, palette='viridis')\n",
    "\n",
    "# Annotate the percentages on top of the bars\n",
    "for index, row in top_five_countries_df.iterrows():\n",
    "    percentage = top_five_countries_percentage[top_five_countries_df['Country'][index]]\n",
    "    ax.text(row['Count'], index, f\"{percentage:.2f}%\", color='black', va='center')\n",
    "\n",
    "# Add labels and title\n",
    "plt.xlabel('Count')\n",
    "plt.ylabel('Country')\n",
    "#plt.title('Top 5 Countries by Count of Appearances (based on the entire DataFrame)')\n",
    "\n",
    "# Remove grid lines\n",
    "plt.grid(False)\n",
    "\n",
    "#saving graph\n",
    "save_path = '../images/top_5_countries.png'\n",
    "plt.savefig(save_path)\n",
    "\n",
    "# Show the plot\n",
    "plt.tight_layout()\n",
    "plt.show\n",
    "\n"
   ]
  },
  {
   "cell_type": "code",
   "execution_count": 54,
   "id": "fb38dfea-1c14-4c9b-86db-8e36d75ccf35",
   "metadata": {},
   "outputs": [
    {
     "data": {
      "image/png": "[encoded data removed]",
      "text/plain": [
       "<Figure size 1000x600 with 1 Axes>"
      ]
     },
     "metadata": {},
     "output_type": "display_data"
    }
   ],
   "source": [
    "# Same graph above used in the presentation\n",
    "\n",
    "# Assuming test2 is your DataFrame and 'country' is the column with country codes\n",
    "# Get the counts of each country\n",
    "country_counts = df['country'].value_counts()\n",
    "\n",
    "# Select the top 5 countries\n",
    "top_five_countries = country_counts.head(5)\n",
    "\n",
    "# Create a DataFrame for the top 5 countries\n",
    "top_five_countries_df = top_five_countries.reset_index()\n",
    "top_five_countries_df.columns = ['Country', 'Count']\n",
    "\n",
    "# Calculate the percentage for each of the top 5 countries based on the entire DataFrame\n",
    "top_five_countries_percentage = (top_five_countries / len(test2)) * 100\n",
    "\n",
    "# Choose colors that stand out from dark grey\n",
    "colors = ['#1f77b4', '#2ca02c', '#d62728', '#ff7f0e', '#9467bd']\n",
    "\n",
    "# Create a bar plot\n",
    "plt.figure(figsize=(10, 6))  # Increase the width of the figure\n",
    "ax = sns.barplot(x='Count', y='Country', data=top_five_countries_df, palette=colors)\n",
    "\n",
    "# Annotate the percentages on top of the bars\n",
    "for index, row in top_five_countries_df.iterrows():\n",
    "    percentage = top_five_countries_percentage[top_five_countries_df['Country'][index]]\n",
    "    ax.text(row['Count'], index, f\"{percentage:.2f}%\", color='white', va='center')\n",
    "\n",
    "# Add labels and title\n",
    "plt.xlabel('Count', color='white')\n",
    "plt.ylabel('Country', color='white')\n",
    "plt.xticks(color='white')\n",
    "plt.yticks(color='white')\n",
    "\n",
    "# Remove grid lines\n",
    "ax.grid(False)\n",
    "\n",
    "# Set background to transparent\n",
    "ax.set_facecolor('none')\n",
    "\n",
    "# Remove the frame\n",
    "ax.spines['top'].set_visible(False)\n",
    "ax.spines['right'].set_visible(False)\n",
    "\n",
    "# Save the plot\n",
    "save_path = '../images/top_5_countries.png'\n",
    "plt.savefig(save_path, transparent=True)\n",
    "\n",
    "# Show the plot\n",
    "plt.tight_layout()\n",
    "plt.show()\n",
    "\n",
    "\n"
   ]
  },
  {
   "cell_type": "markdown",
   "id": "3aa739de-50c2-4390-ac35-fffe4d1da02c",
   "metadata": {},
   "source": [
    "### Export data to.xlx"
   ]
  },
  {
   "cell_type": "code",
   "execution_count": 56,
   "id": "a8c2c004-f920-4686-a7a8-4798e170bd8e",
   "metadata": {},
   "outputs": [],
   "source": [
    "df.to_excel('../data/clean/clean_data.xlsx', index=False)\n"
   ]
  }
 ],
 "metadata": {
  "kernelspec": {
   "display_name": "Python 3 (ipykernel)",
   "language": "python",
   "name": "python3"
  },
  "language_info": {
   "codemirror_mode": {
    "name": "ipython",
    "version": 3
   },
   "file_extension": ".py",
   "mimetype": "text/x-python",
   "name": "python",
   "nbconvert_exporter": "python",
   "pygments_lexer": "ipython3",
   "version": "3.11.7"
  }
 },
 "nbformat": 4,
 "nbformat_minor": 5
}
